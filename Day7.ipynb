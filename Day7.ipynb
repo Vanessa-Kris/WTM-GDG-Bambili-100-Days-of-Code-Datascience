{
  "nbformat": 4,
  "nbformat_minor": 0,
  "metadata": {
    "colab": {
      "name": "Day7.ipynb",
      "provenance": [],
      "authorship_tag": "ABX9TyMTFUDPm2U/vvL92L4gBGSM",
      "include_colab_link": true
    },
    "kernelspec": {
      "name": "python3",
      "display_name": "Python 3"
    },
    "language_info": {
      "name": "python"
    }
  },
  "cells": [
    {
      "cell_type": "markdown",
      "metadata": {
        "id": "view-in-github",
        "colab_type": "text"
      },
      "source": [
        "<a href=\"https://colab.research.google.com/github/Vanessa-Kris/WTM-GDG-Bambili-100-Days-of-Code-Datascience/blob/main/Day7.ipynb\" target=\"_parent\"><img src=\"https://colab.research.google.com/assets/colab-badge.svg\" alt=\"Open In Colab\"/></a>"
      ]
    },
    {
      "cell_type": "code",
      "metadata": {
        "id": "9V8QRhMF7yMM",
        "colab": {
          "base_uri": "https://localhost:8080/",
          "height": 137
        },
        "outputId": "6959cf6d-c125-4743-d88d-fea54528c99c"
      },
      "source": [
        "d = {\n",
        "    <key>: <value>,\n",
        "    <key>: <value>,\n",
        "     .\n",
        "     .\n",
        "     .\n",
        "     <key>: <value>\n",
        "}"
      ],
      "execution_count": 1,
      "outputs": [
        {
          "output_type": "error",
          "ename": "SyntaxError",
          "evalue": "ignored",
          "traceback": [
            "\u001b[0;36m  File \u001b[0;32m\"<ipython-input-1-0e392aced89d>\"\u001b[0;36m, line \u001b[0;32m2\u001b[0m\n\u001b[0;31m    <key>: <value>,\u001b[0m\n\u001b[0m    ^\u001b[0m\n\u001b[0;31mSyntaxError\u001b[0m\u001b[0;31m:\u001b[0m invalid syntax\n"
          ]
        }
      ]
    },
    {
      "cell_type": "code",
      "metadata": {
        "id": "6yTKg0VL-kX2"
      },
      "source": [
        "K_team = {\n",
        "    'Faith' : 'Coach',\n",
        "    'Peace' : 'referee',\n",
        "    'Wisdom' : 'player1',\n",
        "    'Promise' : 'player2',\n",
        "}"
      ],
      "execution_count": 3,
      "outputs": []
    },
    {
      "cell_type": "code",
      "metadata": {
        "id": "SEPuRl-wAK6c",
        "colab": {
          "base_uri": "https://localhost:8080/",
          "height": 36
        },
        "outputId": "17f65c5e-6dda-4f1d-c19b-58ce65890d8b"
      },
      "source": [
        "K_team['Promise']\n"
      ],
      "execution_count": 7,
      "outputs": [
        {
          "output_type": "execute_result",
          "data": {
            "application/vnd.google.colaboratory.intrinsic+json": {
              "type": "string"
            },
            "text/plain": [
              "'player2'"
            ]
          },
          "metadata": {},
          "execution_count": 7
        }
      ]
    },
    {
      "cell_type": "code",
      "metadata": {
        "id": "yTtbW86bBFYA",
        "colab": {
          "base_uri": "https://localhost:8080/",
          "height": 36
        },
        "outputId": "544dd58f-25cc-42df-ad58-96d44e38d100"
      },
      "source": [
        "K_team['Peace']\n"
      ],
      "execution_count": 8,
      "outputs": [
        {
          "output_type": "execute_result",
          "data": {
            "application/vnd.google.colaboratory.intrinsic+json": {
              "type": "string"
            },
            "text/plain": [
              "'referee'"
            ]
          },
          "metadata": {},
          "execution_count": 8
        }
      ]
    },
    {
      "cell_type": "code",
      "metadata": {
        "id": "jKMaxbW3BPta"
      },
      "source": [
        "K_team['Sheldon'] = 'stricker'"
      ],
      "execution_count": 9,
      "outputs": []
    },
    {
      "cell_type": "code",
      "metadata": {
        "id": "MSAOqynwB2rO"
      },
      "source": [
        "del K_team['Sheldon']"
      ],
      "execution_count": 11,
      "outputs": []
    },
    {
      "cell_type": "code",
      "metadata": {
        "id": "ydr2zQ5UB9vW"
      },
      "source": [
        "person = {}\n",
        "type(person)\n",
        "\n",
        "\n",
        "person['fname'] = 'Vanessa'\n",
        "person['lname'] = 'Christopher'\n",
        "person['age'] = '21'\n",
        "person['spouse'] = 'NIL'\n",
        "person['hobby'] = 'Exploring'\n",
        "person['children'] = 'Viola'\n",
        "\n"
      ],
      "execution_count": 18,
      "outputs": []
    },
    {
      "cell_type": "code",
      "metadata": {
        "id": "tiO7uaQ1DSvy",
        "colab": {
          "base_uri": "https://localhost:8080/"
        },
        "outputId": "733de220-ddda-4959-ce78-60b4e211aaf7"
      },
      "source": [
        "person\n",
        "print(person)"
      ],
      "execution_count": 19,
      "outputs": [
        {
          "output_type": "stream",
          "name": "stdout",
          "text": [
            "{'fname': 'Vanessa', 'lname': 'Christopher', 'age': '21', 'spouse': 'NIL', 'hobby': 'Exploring', 'children': 'Viola'}\n"
          ]
        }
      ]
    },
    {
      "cell_type": "code",
      "metadata": {
        "id": "7lDSkM2rDZyg",
        "colab": {
          "base_uri": "https://localhost:8080/"
        },
        "outputId": "a98b588b-f534-4351-ee41-d047c9707a79"
      },
      "source": [
        "person['fname']\n",
        "print(person)"
      ],
      "execution_count": 21,
      "outputs": [
        {
          "output_type": "stream",
          "name": "stdout",
          "text": [
            "{'fname': 'Vanessa', 'lname': 'Christopher', 'age': '21', 'spouse': 'NIL', 'hobby': 'Exploring', 'children': 'Viola'}\n"
          ]
        }
      ]
    },
    {
      "cell_type": "code",
      "metadata": {
        "id": "uQcNnQ-nDgQm",
        "colab": {
          "base_uri": "https://localhost:8080/"
        },
        "outputId": "5709c8e3-c429-412f-a01e-05dbce590644"
      },
      "source": [
        "person['hobby']\n",
        "print(person)"
      ],
      "execution_count": 22,
      "outputs": [
        {
          "output_type": "stream",
          "name": "stdout",
          "text": [
            "{'fname': 'Vanessa', 'lname': 'Christopher', 'age': '21', 'spouse': 'NIL', 'hobby': 'Exploring', 'children': 'Viola'}\n"
          ]
        }
      ]
    },
    {
      "cell_type": "code",
      "metadata": {
        "id": "6iMCHNrCDrW2",
        "colab": {
          "base_uri": "https://localhost:8080/"
        },
        "outputId": "b9a9e75d-80b6-4af3-9cb6-9e4b8cfd353c"
      },
      "source": [
        "d = {'a' : 10, 'b' : 20, 'c' : 30}\n",
        "print(d)\n",
        "\n",
        "list(d.items())\n",
        "\n",
        "list(d.keys())\n",
        "\n",
        "d.pop('b')\n",
        "\n",
        "d.popitem()"
      ],
      "execution_count": 23,
      "outputs": [
        {
          "output_type": "stream",
          "name": "stdout",
          "text": [
            "{'a': 10, 'b': 20, 'c': 30}\n"
          ]
        },
        {
          "output_type": "execute_result",
          "data": {
            "text/plain": [
              "('c', 30)"
            ]
          },
          "metadata": {},
          "execution_count": 23
        }
      ]
    }
  ]
}