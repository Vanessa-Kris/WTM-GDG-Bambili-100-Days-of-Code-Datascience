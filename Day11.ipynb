{
  "nbformat": 4,
  "nbformat_minor": 0,
  "metadata": {
    "colab": {
      "name": "Day11.ipynb",
      "provenance": [],
      "authorship_tag": "ABX9TyP4r4bwMOMSoAQYglHBSb1r",
      "include_colab_link": true
    },
    "kernelspec": {
      "name": "python3",
      "display_name": "Python 3"
    },
    "language_info": {
      "name": "python"
    }
  },
  "cells": [
    {
      "cell_type": "markdown",
      "metadata": {
        "id": "view-in-github",
        "colab_type": "text"
      },
      "source": [
        "<a href=\"https://colab.research.google.com/github/Vanessa-Kris/WTM-GDG-Bambili-100-Days-of-Code-Datascience/blob/main/Day11.ipynb\" target=\"_parent\"><img src=\"https://colab.research.google.com/assets/colab-badge.svg\" alt=\"Open In Colab\"/></a>"
      ]
    },
    {
      "cell_type": "code",
      "metadata": {
        "colab": {
          "base_uri": "https://localhost:8080/"
        },
        "id": "nkw-nrYKMAF1",
        "outputId": "d930b9fc-0f9f-4bff-8c16-5070ee9db50c"
      },
      "source": [
        "a = ['foo', 'bar', 'qux']\n",
        "\n",
        "print(a)\n",
        "\n",
        "a\n"
      ],
      "execution_count": 2,
      "outputs": [
        {
          "output_type": "stream",
          "name": "stdout",
          "text": [
            "['foo', 'bar', 'qux']\n"
          ]
        },
        {
          "output_type": "execute_result",
          "data": {
            "text/plain": [
              "['foo', 'bar', 'qux']"
            ]
          },
          "metadata": {},
          "execution_count": 2
        }
      ]
    },
    {
      "cell_type": "code",
      "metadata": {
        "colab": {
          "base_uri": "https://localhost:8080/"
        },
        "id": "mcBpkGwqMp3L",
        "outputId": "df53d17a-5f55-41ed-d3e3-4c83b3d810a1"
      },
      "source": [
        "a = ['foo', 'bar', 'baz', 'qux']\n",
        "b = ['baz', 'qux', 'bar', 'foo']\n",
        "a == b\n",
        "\n",
        "a is b\n",
        "\n",
        "[1, 2, 3, 4] == [4, 1, 3, 2]"
      ],
      "execution_count": 3,
      "outputs": [
        {
          "output_type": "execute_result",
          "data": {
            "text/plain": [
              "False"
            ]
          },
          "metadata": {},
          "execution_count": 3
        }
      ]
    },
    {
      "cell_type": "code",
      "metadata": {
        "colab": {
          "base_uri": "https://localhost:8080/"
        },
        "id": "ItCengDWNvuh",
        "outputId": "9af4fef9-df1b-47ec-d293-b0e3ad2f1559"
      },
      "source": [
        "a = [2, 4, 6, 8]\n",
        "a"
      ],
      "execution_count": 4,
      "outputs": [
        {
          "output_type": "execute_result",
          "data": {
            "text/plain": [
              "[2, 4, 6, 8]"
            ]
          },
          "metadata": {},
          "execution_count": 4
        }
      ]
    },
    {
      "cell_type": "code",
      "metadata": {
        "colab": {
          "base_uri": "https://localhost:8080/"
        },
        "id": "1ER8NFjgN5UM",
        "outputId": "bea12eba-acd5-4cb8-95bd-90f826703529"
      },
      "source": [
        "a = [21.42, 'foobar', 3, 4, 'bark', False, 3.14159]\n",
        "a"
      ],
      "execution_count": 5,
      "outputs": [
        {
          "output_type": "execute_result",
          "data": {
            "text/plain": [
              "[21.42, 'foobar', 3, 4, 'bark', False, 3.14159]"
            ]
          },
          "metadata": {},
          "execution_count": 5
        }
      ]
    },
    {
      "cell_type": "code",
      "metadata": {
        "colab": {
          "base_uri": "https://localhost:8080/"
        },
        "id": "oo-gE45mOLMa",
        "outputId": "48b41a96-579b-431f-b35e-3b5f7dce4051"
      },
      "source": [
        "a = []\n",
        "a"
      ],
      "execution_count": 6,
      "outputs": [
        {
          "output_type": "execute_result",
          "data": {
            "text/plain": [
              "[]"
            ]
          },
          "metadata": {},
          "execution_count": 6
        }
      ]
    },
    {
      "cell_type": "code",
      "metadata": {
        "colab": {
          "base_uri": "https://localhost:8080/"
        },
        "id": "6JdXqZhaOSew",
        "outputId": "b00b365a-f042-498e-ca0f-ad33010666a4"
      },
      "source": [
        "a = [ 'foo' ]\n",
        "a"
      ],
      "execution_count": 8,
      "outputs": [
        {
          "output_type": "execute_result",
          "data": {
            "text/plain": [
              "['foo']"
            ]
          },
          "metadata": {},
          "execution_count": 8
        }
      ]
    },
    {
      "cell_type": "code",
      "metadata": {
        "colab": {
          "base_uri": "https://localhost:8080/"
        },
        "id": "pomipn8jOYqo",
        "outputId": "0192ba21-0d2c-4732-ecaf-56f3d7bcc049"
      },
      "source": [
        "a = [0, 1, 2, 3, 4, 5, 6, 7, 8, 9, 10]\n",
        "a"
      ],
      "execution_count": 9,
      "outputs": [
        {
          "output_type": "execute_result",
          "data": {
            "text/plain": [
              "[0, 1, 2, 3, 4, 5, 6, 7, 8, 9, 10]"
            ]
          },
          "metadata": {},
          "execution_count": 9
        }
      ]
    },
    {
      "cell_type": "code",
      "metadata": {
        "colab": {
          "base_uri": "https://localhost:8080/"
        },
        "id": "haLGy8tXOoIr",
        "outputId": "dcd91d62-66a9-4ed1-b5a6-417bb5c7ec36"
      },
      "source": [
        "a = ['bark', 'meow', 'woof', 'cheep', 'bark']\n",
        "a"
      ],
      "execution_count": 14,
      "outputs": [
        {
          "output_type": "execute_result",
          "data": {
            "text/plain": [
              "['bark', 'meow', 'woof', 'cheep', 'bark']"
            ]
          },
          "metadata": {},
          "execution_count": 14
        }
      ]
    },
    {
      "cell_type": "code",
      "metadata": {
        "colab": {
          "base_uri": "https://localhost:8080/",
          "height": 36
        },
        "id": "tFt_zTN2PC7H",
        "outputId": "95da1b12-aa3c-4689-aa07-dc85ebd140ba"
      },
      "source": [
        "a[2]"
      ],
      "execution_count": 13,
      "outputs": [
        {
          "output_type": "execute_result",
          "data": {
            "application/vnd.google.colaboratory.intrinsic+json": {
              "type": "string"
            },
            "text/plain": [
              "'woof'"
            ]
          },
          "metadata": {},
          "execution_count": 13
        }
      ]
    },
    {
      "cell_type": "code",
      "metadata": {
        "colab": {
          "base_uri": "https://localhost:8080/"
        },
        "id": "ipDC8NoBPq7l",
        "outputId": "ad08db6f-abe7-47d4-88a9-2dfc23968837"
      },
      "source": [
        "a[2:4]"
      ],
      "execution_count": 15,
      "outputs": [
        {
          "output_type": "execute_result",
          "data": {
            "text/plain": [
              "['woof', 'cheep']"
            ]
          },
          "metadata": {},
          "execution_count": 15
        }
      ]
    },
    {
      "cell_type": "code",
      "metadata": {
        "colab": {
          "base_uri": "https://localhost:8080/"
        },
        "id": "3uMm5uITQR35",
        "outputId": "69f3c8c2-686c-4be5-97f8-7b7a0723f256"
      },
      "source": [
        "a[-2:-5]"
      ],
      "execution_count": 17,
      "outputs": [
        {
          "output_type": "execute_result",
          "data": {
            "text/plain": [
              "[]"
            ]
          },
          "metadata": {},
          "execution_count": 17
        }
      ]
    },
    {
      "cell_type": "code",
      "metadata": {
        "colab": {
          "base_uri": "https://localhost:8080/"
        },
        "id": "kY6F2w3hQXWS",
        "outputId": "488941db-0042-49ce-d099-c132a1b2cf1b"
      },
      "source": [
        "print(a[:4], a[0:4])"
      ],
      "execution_count": 18,
      "outputs": [
        {
          "output_type": "stream",
          "name": "stdout",
          "text": [
            "['bark', 'meow', 'woof', 'cheep'] ['bark', 'meow', 'woof', 'cheep']\n"
          ]
        }
      ]
    },
    {
      "cell_type": "code",
      "metadata": {
        "colab": {
          "base_uri": "https://localhost:8080/"
        },
        "id": "idZDSEtiRAOW",
        "outputId": "f1f88e6a-8f4e-400f-a5fd-d8fa2265d898"
      },
      "source": [
        "print(a[2:], a[2:len(a)])"
      ],
      "execution_count": 19,
      "outputs": [
        {
          "output_type": "stream",
          "name": "stdout",
          "text": [
            "['woof', 'cheep', 'bark'] ['woof', 'cheep', 'bark']\n"
          ]
        }
      ]
    },
    {
      "cell_type": "code",
      "metadata": {
        "colab": {
          "base_uri": "https://localhost:8080/"
        },
        "id": "cg4vjB58RP_v",
        "outputId": "2bfea7f1-fc83-464c-bcde-e0d25e9bfae2"
      },
      "source": [
        "a[0:2:4]"
      ],
      "execution_count": 20,
      "outputs": [
        {
          "output_type": "execute_result",
          "data": {
            "text/plain": [
              "['bark']"
            ]
          },
          "metadata": {},
          "execution_count": 20
        }
      ]
    },
    {
      "cell_type": "code",
      "metadata": {
        "colab": {
          "base_uri": "https://localhost:8080/"
        },
        "id": "JLSB9ygHRrLL",
        "outputId": "391b91f8-3d50-4e22-abc0-269165b24a3c"
      },
      "source": [
        "a[::-1]"
      ],
      "execution_count": 21,
      "outputs": [
        {
          "output_type": "execute_result",
          "data": {
            "text/plain": [
              "['bark', 'cheep', 'woof', 'meow', 'bark']"
            ]
          },
          "metadata": {},
          "execution_count": 21
        }
      ]
    },
    {
      "cell_type": "code",
      "metadata": {
        "colab": {
          "base_uri": "https://localhost:8080/",
          "height": 36
        },
        "id": "a92soFHvR6Dm",
        "outputId": "e290dab4-8fec-40ac-e0c7-7c803f56635d"
      },
      "source": [
        "s = 'foobar'\n",
        "s[:]"
      ],
      "execution_count": 23,
      "outputs": [
        {
          "output_type": "execute_result",
          "data": {
            "application/vnd.google.colaboratory.intrinsic+json": {
              "type": "string"
            },
            "text/plain": [
              "'foobar'"
            ]
          },
          "metadata": {},
          "execution_count": 23
        }
      ]
    },
    {
      "cell_type": "code",
      "metadata": {
        "colab": {
          "base_uri": "https://localhost:8080/"
        },
        "id": "p9ZJM2rESCIJ",
        "outputId": "ed997fc3-3438-4443-d1fc-b08076f30da4"
      },
      "source": [
        "s[:] is s"
      ],
      "execution_count": 24,
      "outputs": [
        {
          "output_type": "execute_result",
          "data": {
            "text/plain": [
              "True"
            ]
          },
          "metadata": {},
          "execution_count": 24
        }
      ]
    },
    {
      "cell_type": "code",
      "metadata": {
        "colab": {
          "base_uri": "https://localhost:8080/"
        },
        "id": "U3V0jThmSMnw",
        "outputId": "686566bc-100c-4e90-c1ee-38650f6ed6d2"
      },
      "source": [
        "a "
      ],
      "execution_count": 25,
      "outputs": [
        {
          "output_type": "execute_result",
          "data": {
            "text/plain": [
              "['bark', 'meow', 'woof', 'cheep', 'bark']"
            ]
          },
          "metadata": {},
          "execution_count": 25
        }
      ]
    },
    {
      "cell_type": "code",
      "metadata": {
        "colab": {
          "base_uri": "https://localhost:8080/"
        },
        "id": "WDN5NKncSXYN",
        "outputId": "d9620052-6a03-4df8-a856-b98fd23c7f0b"
      },
      "source": [
        "'cheep' in a"
      ],
      "execution_count": 26,
      "outputs": [
        {
          "output_type": "execute_result",
          "data": {
            "text/plain": [
              "True"
            ]
          },
          "metadata": {},
          "execution_count": 26
        }
      ]
    },
    {
      "cell_type": "code",
      "metadata": {
        "colab": {
          "base_uri": "https://localhost:8080/"
        },
        "id": "YBZXAfBcS-Uy",
        "outputId": "4c1ed054-6724-4b42-b39b-6e024dcc7858"
      },
      "source": [
        "a + ['she', 'her']"
      ],
      "execution_count": 29,
      "outputs": [
        {
          "output_type": "execute_result",
          "data": {
            "text/plain": [
              "['bark', 'meow', 'woof', 'cheep', 'bark', 'she', 'her']"
            ]
          },
          "metadata": {},
          "execution_count": 29
        }
      ]
    },
    {
      "cell_type": "code",
      "metadata": {
        "colab": {
          "base_uri": "https://localhost:8080/"
        },
        "id": "Ed0zqoivTWgf",
        "outputId": "878f6ac2-1de1-48f0-a9fb-2d18b3d81477"
      },
      "source": [
        "a * 2"
      ],
      "execution_count": 30,
      "outputs": [
        {
          "output_type": "execute_result",
          "data": {
            "text/plain": [
              "['bark',\n",
              " 'meow',\n",
              " 'woof',\n",
              " 'cheep',\n",
              " 'bark',\n",
              " 'bark',\n",
              " 'meow',\n",
              " 'woof',\n",
              " 'cheep',\n",
              " 'bark']"
            ]
          },
          "metadata": {},
          "execution_count": 30
        }
      ]
    },
    {
      "cell_type": "code",
      "metadata": {
        "colab": {
          "base_uri": "https://localhost:8080/"
        },
        "id": "InH2o_OHTaPI",
        "outputId": "41e0639b-e4c8-409b-df1d-0a8a37c3520d"
      },
      "source": [
        "len(a)"
      ],
      "execution_count": 31,
      "outputs": [
        {
          "output_type": "execute_result",
          "data": {
            "text/plain": [
              "5"
            ]
          },
          "metadata": {},
          "execution_count": 31
        }
      ]
    },
    {
      "cell_type": "code",
      "metadata": {
        "colab": {
          "base_uri": "https://localhost:8080/",
          "height": 36
        },
        "id": "DuTh3d8oTqpJ",
        "outputId": "47061842-ab74-49b1-9a82-93600fbbc9ef"
      },
      "source": [
        "min(a)"
      ],
      "execution_count": 32,
      "outputs": [
        {
          "output_type": "execute_result",
          "data": {
            "application/vnd.google.colaboratory.intrinsic+json": {
              "type": "string"
            },
            "text/plain": [
              "'bark'"
            ]
          },
          "metadata": {},
          "execution_count": 32
        }
      ]
    },
    {
      "cell_type": "code",
      "metadata": {
        "colab": {
          "base_uri": "https://localhost:8080/",
          "height": 36
        },
        "id": "duRtbP5_TvLj",
        "outputId": "1fe171bd-01fc-4be3-8354-09829ebfeeea"
      },
      "source": [
        "max(a)"
      ],
      "execution_count": 33,
      "outputs": [
        {
          "output_type": "execute_result",
          "data": {
            "application/vnd.google.colaboratory.intrinsic+json": {
              "type": "string"
            },
            "text/plain": [
              "'woof'"
            ]
          },
          "metadata": {},
          "execution_count": 33
        }
      ]
    },
    {
      "cell_type": "code",
      "metadata": {
        "colab": {
          "base_uri": "https://localhost:8080/"
        },
        "id": "nnWs2StETygW",
        "outputId": "fb46b33a-49aa-4f1e-fe2b-14da3c42d0a7"
      },
      "source": [
        "a[2] = 10\n",
        "a[-1] = 20\n",
        "a"
      ],
      "execution_count": 34,
      "outputs": [
        {
          "output_type": "execute_result",
          "data": {
            "text/plain": [
              "['bark', 'meow', 10, 'cheep', 20]"
            ]
          },
          "metadata": {},
          "execution_count": 34
        }
      ]
    },
    {
      "cell_type": "code",
      "metadata": {
        "colab": {
          "base_uri": "https://localhost:8080/"
        },
        "id": "xCAnGiDmUUZp",
        "outputId": "80aa8105-712c-4e36-9f0b-25ed9a6dc641"
      },
      "source": [
        "a = [10, 20] + a\n",
        "a"
      ],
      "execution_count": 35,
      "outputs": [
        {
          "output_type": "execute_result",
          "data": {
            "text/plain": [
              "[10, 20, 'bark', 'meow', 10, 'cheep', 20]"
            ]
          },
          "metadata": {},
          "execution_count": 35
        }
      ]
    },
    {
      "cell_type": "code",
      "metadata": {
        "colab": {
          "base_uri": "https://localhost:8080/"
        },
        "id": "UtN8a132Umwi",
        "outputId": "d18a95d8-3db7-4ab9-b4f3-7ff8981d7c60"
      },
      "source": [
        "a += 'corge'\n",
        "a"
      ],
      "execution_count": 37,
      "outputs": [
        {
          "output_type": "execute_result",
          "data": {
            "text/plain": [
              "[10,\n",
              " 20,\n",
              " 'bark',\n",
              " 'meow',\n",
              " 10,\n",
              " 'cheep',\n",
              " 20,\n",
              " 'c',\n",
              " 'o',\n",
              " 'r',\n",
              " 'g',\n",
              " 'e',\n",
              " 'c',\n",
              " 'o',\n",
              " 'r',\n",
              " 'g',\n",
              " 'e']"
            ]
          },
          "metadata": {},
          "execution_count": 37
        }
      ]
    },
    {
      "cell_type": "code",
      "metadata": {
        "colab": {
          "base_uri": "https://localhost:8080/"
        },
        "id": "fphof3xxUuW4",
        "outputId": "1fcb0f3c-25bc-4132-fa82-a625d39331b6"
      },
      "source": [
        "s = 'foobar'\n",
        "t = s.upper()\n",
        "print(s, t)"
      ],
      "execution_count": 38,
      "outputs": [
        {
          "output_type": "stream",
          "name": "stdout",
          "text": [
            "foobar FOOBAR\n"
          ]
        }
      ]
    },
    {
      "cell_type": "code",
      "metadata": {
        "colab": {
          "base_uri": "https://localhost:8080/"
        },
        "id": "1dKT2zDmVBQe",
        "outputId": "7e8f1d8d-2369-4515-f578-88e60e37c952"
      },
      "source": [
        "a = ['a', 'b']\n",
        "a.append(123)\n",
        "a"
      ],
      "execution_count": 39,
      "outputs": [
        {
          "output_type": "execute_result",
          "data": {
            "text/plain": [
              "['a', 'b', 123]"
            ]
          },
          "metadata": {},
          "execution_count": 39
        }
      ]
    },
    {
      "cell_type": "code",
      "metadata": {
        "colab": {
          "base_uri": "https://localhost:8080/"
        },
        "id": "_VlF4jN7VL1P",
        "outputId": "499abf0a-7536-4cf3-f468-11ec761da60f"
      },
      "source": [
        "a = ['a', 'b']\n",
        "a + [1, 2, 3]"
      ],
      "execution_count": 40,
      "outputs": [
        {
          "output_type": "execute_result",
          "data": {
            "text/plain": [
              "['a', 'b', 1, 2, 3]"
            ]
          },
          "metadata": {},
          "execution_count": 40
        }
      ]
    },
    {
      "cell_type": "code",
      "metadata": {
        "colab": {
          "base_uri": "https://localhost:8080/"
        },
        "id": "dChJhpYBVgTq",
        "outputId": "95b8902f-5820-49ab-a125-c285784a334b"
      },
      "source": [
        "a = ['a', 'b']\n",
        "a.extend([1, 2, 3])\n",
        "a"
      ],
      "execution_count": 41,
      "outputs": [
        {
          "output_type": "execute_result",
          "data": {
            "text/plain": [
              "['a', 'b', 1, 2, 3]"
            ]
          },
          "metadata": {},
          "execution_count": 41
        }
      ]
    },
    {
      "cell_type": "code",
      "metadata": {
        "id": "yeX_ccCdVyce"
      },
      "source": [
        "a = ['a', 'b']\n",
        "a += [1, 2, 3 ]"
      ],
      "execution_count": 42,
      "outputs": []
    },
    {
      "cell_type": "code",
      "metadata": {
        "colab": {
          "base_uri": "https://localhost:8080/"
        },
        "id": "ZAaQoXHPYAFv",
        "outputId": "5bf0c9cf-29fa-4706-f32d-26f1c23eee77"
      },
      "source": [
        "t = ()\n",
        "type(t)"
      ],
      "execution_count": 43,
      "outputs": [
        {
          "output_type": "execute_result",
          "data": {
            "text/plain": [
              "tuple"
            ]
          },
          "metadata": {},
          "execution_count": 43
        }
      ]
    },
    {
      "cell_type": "code",
      "metadata": {
        "colab": {
          "base_uri": "https://localhost:8080/"
        },
        "id": "oczFf1EqYFlY",
        "outputId": "4691ccb2-32f8-4910-9235-e20e7c3c39f6"
      },
      "source": [
        "t = (1, 2, 3, 4, 5)\n",
        "type(t)"
      ],
      "execution_count": 44,
      "outputs": [
        {
          "output_type": "execute_result",
          "data": {
            "text/plain": [
              "tuple"
            ]
          },
          "metadata": {},
          "execution_count": 44
        }
      ]
    },
    {
      "cell_type": "code",
      "metadata": {
        "colab": {
          "base_uri": "https://localhost:8080/"
        },
        "id": "Ri-jG-WKYV9C",
        "outputId": "64c581da-a047-4c34-e41e-4f752ff3a138"
      },
      "source": [
        "t = (2)\n",
        "type(t)"
      ],
      "execution_count": 45,
      "outputs": [
        {
          "output_type": "execute_result",
          "data": {
            "text/plain": [
              "int"
            ]
          },
          "metadata": {},
          "execution_count": 45
        }
      ]
    },
    {
      "cell_type": "code",
      "metadata": {
        "colab": {
          "base_uri": "https://localhost:8080/"
        },
        "id": "FFwF_SpNYbFr",
        "outputId": "b3d50069-62e1-4dfd-8c91-f4f9c6de5859"
      },
      "source": [
        "a = 'foo'\n",
        "b = 'bar'\n",
        "a, b"
      ],
      "execution_count": 46,
      "outputs": [
        {
          "output_type": "execute_result",
          "data": {
            "text/plain": [
              "('foo', 'bar')"
            ]
          },
          "metadata": {},
          "execution_count": 46
        }
      ]
    },
    {
      "cell_type": "code",
      "metadata": {
        "colab": {
          "base_uri": "https://localhost:8080/"
        },
        "id": "E6kNkct2Y4Kp",
        "outputId": "6db40ac8-f015-45bd-ec7a-818a81f38379"
      },
      "source": [
        "#magic time!\n",
        "a, b = b, a\n",
        "\n",
        "a, b"
      ],
      "execution_count": 48,
      "outputs": [
        {
          "output_type": "execute_result",
          "data": {
            "text/plain": [
              "('bar', 'foo')"
            ]
          },
          "metadata": {},
          "execution_count": 48
        }
      ]
    },
    {
      "cell_type": "code",
      "metadata": {
        "id": "tT3pWrtuZG7r"
      },
      "source": [
        ""
      ],
      "execution_count": null,
      "outputs": []
    }
  ]
}