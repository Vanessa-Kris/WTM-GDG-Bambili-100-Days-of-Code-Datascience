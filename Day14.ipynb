{
  "nbformat": 4,
  "nbformat_minor": 0,
  "metadata": {
    "colab": {
      "name": "Day14.ipynb",
      "provenance": [],
      "collapsed_sections": [],
      "authorship_tag": "ABX9TyOeQjbdjY1I9iQ+NYHTGJwD",
      "include_colab_link": true
    },
    "kernelspec": {
      "name": "python3",
      "display_name": "Python 3"
    },
    "language_info": {
      "name": "python"
    }
  },
  "cells": [
    {
      "cell_type": "markdown",
      "metadata": {
        "id": "view-in-github",
        "colab_type": "text"
      },
      "source": [
        "<a href=\"https://colab.research.google.com/github/Vanessa-Kris/WTM-GDG-Bambili-100-Days-of-Code-Datascience/blob/main/Day14.ipynb\" target=\"_parent\"><img src=\"https://colab.research.google.com/assets/colab-badge.svg\" alt=\"Open In Colab\"/></a>"
      ]
    },
    {
      "cell_type": "code",
      "metadata": {
        "colab": {
          "base_uri": "https://localhost:8080/"
        },
        "id": "RbD8bLpnsrRM",
        "outputId": "b3f0ad55-f0aa-4bf2-cae8-1c76fe377a11"
      },
      "source": [
        "s = 'foobar'\n",
        "id(s)"
      ],
      "execution_count": null,
      "outputs": [
        {
          "output_type": "execute_result",
          "data": {
            "text/plain": [
              "139659294811568"
            ]
          },
          "metadata": {},
          "execution_count": 1
        }
      ]
    },
    {
      "cell_type": "code",
      "metadata": {
        "colab": {
          "base_uri": "https://localhost:8080/"
        },
        "id": "ik3U2p-ms02D",
        "outputId": "ca5135c8-1b2d-4b21-8c48-67f01f67d610"
      },
      "source": [
        "a = ['foo', 'bar', 'baz', 'qux']\n",
        "len(a)"
      ],
      "execution_count": null,
      "outputs": [
        {
          "output_type": "execute_result",
          "data": {
            "text/plain": [
              "4"
            ]
          },
          "metadata": {},
          "execution_count": 2
        }
      ]
    },
    {
      "cell_type": "code",
      "metadata": {
        "colab": {
          "base_uri": "https://localhost:8080/"
        },
        "id": "_rqINAfltHBg",
        "outputId": "52b78ee8-08cb-4cb0-fa89-f06db8742bcd"
      },
      "source": [
        "any([False, False, False])"
      ],
      "execution_count": null,
      "outputs": [
        {
          "output_type": "execute_result",
          "data": {
            "text/plain": [
              "False"
            ]
          },
          "metadata": {},
          "execution_count": 3
        }
      ]
    },
    {
      "cell_type": "code",
      "metadata": {
        "colab": {
          "base_uri": "https://localhost:8080/"
        },
        "id": "CyLSnA-utQi3",
        "outputId": "62758bfb-68d7-4745-fd5c-37d95066065a"
      },
      "source": [
        "any([False, True, False])"
      ],
      "execution_count": null,
      "outputs": [
        {
          "output_type": "execute_result",
          "data": {
            "text/plain": [
              "True"
            ]
          },
          "metadata": {},
          "execution_count": 4
        }
      ]
    },
    {
      "cell_type": "code",
      "metadata": {
        "colab": {
          "base_uri": "https://localhost:8080/"
        },
        "id": "ahoD9zf_tYjX",
        "outputId": "f075146b-4ba3-431a-932a-897d2d3e0fd9"
      },
      "source": [
        "any(['bar' == 'baz', len('foo') == 4, 'qux' in {'foo', 'bar', 'baz'}])"
      ],
      "execution_count": null,
      "outputs": [
        {
          "output_type": "execute_result",
          "data": {
            "text/plain": [
              "False"
            ]
          },
          "metadata": {},
          "execution_count": 5
        }
      ]
    },
    {
      "cell_type": "code",
      "metadata": {
        "colab": {
          "base_uri": "https://localhost:8080/"
        },
        "id": "oXIPxWncttz2",
        "outputId": "cb824087-b09f-4649-8138-0ee3e8cbe935"
      },
      "source": [
        "any(['bar' == 'baz', len('foo') == 3, 'qux' in {'foo', 'bar', 'baz'}])"
      ],
      "execution_count": null,
      "outputs": [
        {
          "output_type": "execute_result",
          "data": {
            "text/plain": [
              "True"
            ]
          },
          "metadata": {},
          "execution_count": 6
        }
      ]
    },
    {
      "cell_type": "code",
      "metadata": {
        "id": "icLivgHlt11E"
      },
      "source": [
        "def f():\n",
        "  s = '-- Inside f()'\n",
        "  print(s)\n",
        "\n",
        "  print('Before calling f()')\n",
        "  f()\n",
        "  print('After calling f()')"
      ],
      "execution_count": null,
      "outputs": []
    },
    {
      "cell_type": "code",
      "metadata": {
        "id": "0Nh4AYlgunZ-"
      },
      "source": [
        "def f():\n",
        "  pass\n",
        "\n",
        "  f()"
      ],
      "execution_count": null,
      "outputs": []
    },
    {
      "cell_type": "code",
      "metadata": {
        "id": "efMoBdqqvGiV"
      },
      "source": [
        "def f(qty, item, price):\n",
        "  print(f'{qty} {item} cost ${price:.2f}')"
      ],
      "execution_count": null,
      "outputs": []
    },
    {
      "cell_type": "code",
      "metadata": {
        "colab": {
          "base_uri": "https://localhost:8080/"
        },
        "id": "6P4dJNAkxGEE",
        "outputId": "bdaa09cb-1432-471a-f835-2a79a1eb8adb"
      },
      "source": [
        "f(6, 'bananas', 1.74)"
      ],
      "execution_count": null,
      "outputs": [
        {
          "output_type": "stream",
          "name": "stdout",
          "text": [
            "6 bananas cost $1.74\n"
          ]
        }
      ]
    },
    {
      "cell_type": "code",
      "metadata": {
        "colab": {
          "base_uri": "https://localhost:8080/"
        },
        "id": "E3UEaGhmxWnw",
        "outputId": "198565b0-99ae-43c9-a6e1-1a9b44c2e4b3"
      },
      "source": [
        "f(4, 'apples', 2.24)"
      ],
      "execution_count": null,
      "outputs": [
        {
          "output_type": "stream",
          "name": "stdout",
          "text": [
            "4 apples cost $2.24\n"
          ]
        }
      ]
    },
    {
      "cell_type": "code",
      "metadata": {
        "id": "Sw9LadgDzlBO"
      },
      "source": [
        "def f(my_list=[]):\n",
        "  my_list.append('###')\n",
        "  return my_list"
      ],
      "execution_count": null,
      "outputs": []
    },
    {
      "cell_type": "code",
      "metadata": {
        "colab": {
          "base_uri": "https://localhost:8080/"
        },
        "id": "wNR4Ex9Y4vsD",
        "outputId": "efd6818a-42e6-4322-98da-939cd88a9eef"
      },
      "source": [
        "f(['foo', 'bar', 'baz'])"
      ],
      "execution_count": null,
      "outputs": [
        {
          "output_type": "execute_result",
          "data": {
            "text/plain": [
              "['foo', 'bar', 'baz', '###']"
            ]
          },
          "metadata": {},
          "execution_count": 15
        }
      ]
    },
    {
      "cell_type": "code",
      "metadata": {
        "colab": {
          "base_uri": "https://localhost:8080/"
        },
        "id": "09kyH-lU44B0",
        "outputId": "36f316c3-0ba5-44df-8654-fc546dd1633e"
      },
      "source": [
        "f([1, 2, 3, 4, 5])"
      ],
      "execution_count": null,
      "outputs": [
        {
          "output_type": "execute_result",
          "data": {
            "text/plain": [
              "[1, 2, 3, 4, 5, '###']"
            ]
          },
          "metadata": {},
          "execution_count": 16
        }
      ]
    },
    {
      "cell_type": "code",
      "metadata": {
        "colab": {
          "base_uri": "https://localhost:8080/"
        },
        "id": "Q9pVwh5w4-Nh",
        "outputId": "44b44b0d-9bb5-468f-de97-f7341413bebd"
      },
      "source": [
        "f()"
      ],
      "execution_count": null,
      "outputs": [
        {
          "output_type": "execute_result",
          "data": {
            "text/plain": [
              "['###']"
            ]
          },
          "metadata": {},
          "execution_count": 17
        }
      ]
    },
    {
      "cell_type": "code",
      "metadata": {
        "colab": {
          "base_uri": "https://localhost:8080/"
        },
        "id": "7R0XqVnt5D6I",
        "outputId": "c97716d3-56fb-4e69-e69e-2aff18cc16b3"
      },
      "source": [
        "f()"
      ],
      "execution_count": null,
      "outputs": [
        {
          "output_type": "execute_result",
          "data": {
            "text/plain": [
              "['###', '###']"
            ]
          },
          "metadata": {},
          "execution_count": 18
        }
      ]
    },
    {
      "cell_type": "code",
      "metadata": {
        "id": "1rVeqh8E5FmW"
      },
      "source": [
        "def f(my_list=[]):\n",
        "  print(id(my_list))\n",
        "  my_list.append('###')\n",
        "  return my_list"
      ],
      "execution_count": null,
      "outputs": []
    },
    {
      "cell_type": "code",
      "metadata": {
        "colab": {
          "base_uri": "https://localhost:8080/"
        },
        "id": "QUEYoxxF8JIA",
        "outputId": "758f9e10-788a-4da7-c3e4-ab4304fe00ba"
      },
      "source": [
        "f()"
      ],
      "execution_count": null,
      "outputs": [
        {
          "output_type": "stream",
          "name": "stdout",
          "text": [
            "139659189916368\n"
          ]
        },
        {
          "output_type": "execute_result",
          "data": {
            "text/plain": [
              "['###', '###', '###']"
            ]
          },
          "metadata": {},
          "execution_count": 24
        }
      ]
    },
    {
      "cell_type": "code",
      "metadata": {
        "id": "1y6rqb4z8L-2"
      },
      "source": [
        "def f (my_list=None):\n",
        "  if my_list is None:\n",
        "    my_list = []\n",
        "  my_list.append('###')\n",
        "  return my_list"
      ],
      "execution_count": null,
      "outputs": []
    },
    {
      "cell_type": "code",
      "metadata": {
        "colab": {
          "base_uri": "https://localhost:8080/"
        },
        "id": "nywD1ZuZ8yZN",
        "outputId": "d30c689d-6fbc-436f-b8db-211a3bb1023a"
      },
      "source": [
        "f()"
      ],
      "execution_count": null,
      "outputs": [
        {
          "output_type": "execute_result",
          "data": {
            "text/plain": [
              "['###']"
            ]
          },
          "metadata": {},
          "execution_count": 26
        }
      ]
    },
    {
      "cell_type": "code",
      "metadata": {
        "id": "R4fys1tH82L3"
      },
      "source": [
        "def f(fx):\n",
        "  print('fx =', fx, '/ id(fx) = ', id(fx))\n",
        "  fx = 10\n",
        "  print('fx =', fx, '/ id(fx) = ', id(fx))"
      ],
      "execution_count": null,
      "outputs": []
    },
    {
      "cell_type": "code",
      "metadata": {
        "colab": {
          "base_uri": "https://localhost:8080/"
        },
        "id": "17THGRQW-j-l",
        "outputId": "509d6ba4-dc7d-4d37-a321-1f5bd0122525"
      },
      "source": [
        "x = 5\n",
        "print('x =', '/ id(x) =', id(x))"
      ],
      "execution_count": null,
      "outputs": [
        {
          "output_type": "stream",
          "name": "stdout",
          "text": [
            "x = / id(x) = 93921676479104\n"
          ]
        }
      ]
    },
    {
      "cell_type": "code",
      "metadata": {
        "id": "nwLR-f0b-xAF"
      },
      "source": [
        "def f(x):\n",
        "  x = 'foo'\n",
        "\n",
        "  for i in (\n",
        "      40, dict(foo=1, bar=2),{1, 2, 3}, 'bar', ['foo', 'bar', 'baz']):\n",
        "    f(i)\n",
        "    print(i)"
      ],
      "execution_count": null,
      "outputs": []
    },
    {
      "cell_type": "code",
      "metadata": {
        "id": "ApigJZdK_7Qn"
      },
      "source": [
        "def f(x):\n",
        "  x['bar'] = 22"
      ],
      "execution_count": null,
      "outputs": []
    },
    {
      "cell_type": "code",
      "metadata": {
        "colab": {
          "base_uri": "https://localhost:8080/"
        },
        "id": "0_Rw50NAA3jX",
        "outputId": "f1365a3a-096d-4606-abaf-de3581b94529"
      },
      "source": [
        "my_dict = {'foo': 1, 'bar':2, 'baz':3}\n",
        "\n",
        "f(my_dict)\n",
        "my_dict"
      ],
      "execution_count": null,
      "outputs": [
        {
          "output_type": "execute_result",
          "data": {
            "text/plain": [
              "{'bar': 22, 'baz': 3, 'foo': 1}"
            ]
          },
          "metadata": {},
          "execution_count": 34
        }
      ]
    },
    {
      "cell_type": "code",
      "metadata": {
        "id": "LwPmEX4qBIUb"
      },
      "source": [
        "def f(x):\n",
        "  if x < 0:\n",
        "    return\n",
        "  if x > 100:\n",
        "    return \n",
        "    print(x)"
      ],
      "execution_count": 36,
      "outputs": []
    },
    {
      "cell_type": "code",
      "metadata": {
        "id": "U5ts-4EEBqQ6"
      },
      "source": [
        "f(-3)\n",
        "f(105)\n",
        "f(64)"
      ],
      "execution_count": 37,
      "outputs": []
    },
    {
      "cell_type": "code",
      "metadata": {
        "id": "yqcOEOOCC_5T"
      },
      "source": [
        "def double_list(x):\n",
        "  i = 0\n",
        "  while i < len(x):\n",
        "    x[i] *=2\n",
        "    i += 1"
      ],
      "execution_count": 38,
      "outputs": []
    },
    {
      "cell_type": "code",
      "metadata": {
        "colab": {
          "base_uri": "https://localhost:8080/"
        },
        "id": "PvzcoflmDi42",
        "outputId": "3d482c51-a7e1-4f49-dfc0-c957da16633a"
      },
      "source": [
        "a = [1, 2, 3, 4, 5]\n",
        "double_list(a)\n",
        "a"
      ],
      "execution_count": 39,
      "outputs": [
        {
          "output_type": "execute_result",
          "data": {
            "text/plain": [
              "[2, 4, 6, 8, 10]"
            ]
          },
          "metadata": {},
          "execution_count": 39
        }
      ]
    },
    {
      "cell_type": "code",
      "metadata": {
        "id": "eQsIU_QSDqaA"
      },
      "source": [
        "def avg(a, b, c):\n",
        "  return (a + b + c) / 3"
      ],
      "execution_count": 40,
      "outputs": []
    },
    {
      "cell_type": "code",
      "metadata": {
        "colab": {
          "base_uri": "https://localhost:8080/"
        },
        "id": "AT2k9GKwD8ne",
        "outputId": "f1f3947f-3a5f-4850-e897-473401476fac"
      },
      "source": [
        "avg(1, 2, 3)"
      ],
      "execution_count": 41,
      "outputs": [
        {
          "output_type": "execute_result",
          "data": {
            "text/plain": [
              "2.0"
            ]
          },
          "metadata": {},
          "execution_count": 41
        }
      ]
    },
    {
      "cell_type": "code",
      "metadata": {
        "id": "uandGbpOEq1B"
      },
      "source": [
        ""
      ],
      "execution_count": null,
      "outputs": []
    }
  ]
}