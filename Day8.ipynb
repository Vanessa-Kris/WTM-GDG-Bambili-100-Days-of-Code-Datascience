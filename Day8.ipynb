{
  "nbformat": 4,
  "nbformat_minor": 0,
  "metadata": {
    "colab": {
      "name": "Day8.ipynb",
      "provenance": [],
      "authorship_tag": "ABX9TyMPaC933A64hwTVE2MSyQWN",
      "include_colab_link": true
    },
    "kernelspec": {
      "name": "python3",
      "display_name": "Python 3"
    },
    "language_info": {
      "name": "python"
    }
  },
  "cells": [
    {
      "cell_type": "markdown",
      "metadata": {
        "id": "view-in-github",
        "colab_type": "text"
      },
      "source": [
        "<a href=\"https://colab.research.google.com/github/Vanessa-Kris/WTM-GDG-Bambili-100-Days-of-Code-Datascience/blob/main/Day8.ipynb\" target=\"_parent\"><img src=\"https://colab.research.google.com/assets/colab-badge.svg\" alt=\"Open In Colab\"/></a>"
      ]
    },
    {
      "cell_type": "code",
      "metadata": {
        "colab": {
          "base_uri": "https://localhost:8080/",
          "height": 0
        },
        "id": "W6CzX7WFOj-e",
        "outputId": "8e7bebe5-80f0-40a9-a236-1fbca4ac5adf"
      },
      "source": [
        "x = 0\n",
        "y = 5\n",
        "\n",
        "if x < y:\n",
        "  print('yes')"
      ],
      "execution_count": 5,
      "outputs": [
        {
          "output_type": "stream",
          "name": "stdout",
          "text": [
            "yes\n"
          ]
        }
      ]
    },
    {
      "cell_type": "code",
      "metadata": {
        "id": "LTsYhkjiPzBG"
      },
      "source": [
        "if y < x:\n",
        "  print('yes')"
      ],
      "execution_count": 6,
      "outputs": []
    },
    {
      "cell_type": "code",
      "metadata": {
        "id": "qEzhEBTlQg5y"
      },
      "source": [
        "if x:\n",
        "  print('yes')"
      ],
      "execution_count": 8,
      "outputs": []
    },
    {
      "cell_type": "code",
      "metadata": {
        "id": "M1zTs4h9QmbI",
        "outputId": "c77b43c7-caf0-485e-bd80-22abe97d2824",
        "colab": {
          "base_uri": "https://localhost:8080/",
          "height": 0
        }
      },
      "source": [
        "if y:\n",
        "  print('yes')"
      ],
      "execution_count": 9,
      "outputs": [
        {
          "output_type": "stream",
          "name": "stdout",
          "text": [
            "yes\n"
          ]
        }
      ]
    },
    {
      "cell_type": "code",
      "metadata": {
        "id": "9XnBMcSUQwpK",
        "outputId": "bd90a78c-4968-4e3e-f9a9-407aceea89cb",
        "colab": {
          "base_uri": "https://localhost:8080/",
          "height": 0
        }
      },
      "source": [
        "if x or y:\n",
        "  print('yes')"
      ],
      "execution_count": 11,
      "outputs": [
        {
          "output_type": "stream",
          "name": "stdout",
          "text": [
            "yes\n"
          ]
        }
      ]
    },
    {
      "cell_type": "code",
      "metadata": {
        "id": "JbN_pZeWQ3LO"
      },
      "source": [
        "if x and y:\n",
        "  print('yes')"
      ],
      "execution_count": 12,
      "outputs": []
    },
    {
      "cell_type": "code",
      "metadata": {
        "id": "KlG0taA6Rpt8",
        "outputId": "7b8a29c3-0c6c-4a01-abb6-9a72d36be673",
        "colab": {
          "base_uri": "https://localhost:8080/",
          "height": 0
        }
      },
      "source": [
        "if 'aul' in 'grault':\n",
        "  print('yes')"
      ],
      "execution_count": 13,
      "outputs": [
        {
          "output_type": "stream",
          "name": "stdout",
          "text": [
            "yes\n"
          ]
        }
      ]
    },
    {
      "cell_type": "code",
      "metadata": {
        "id": "dqYGEeFyRzkU"
      },
      "source": [
        "if 'quux' in ['foo', 'bar', 'baz']:\n",
        "  print('yes')"
      ],
      "execution_count": 14,
      "outputs": []
    },
    {
      "cell_type": "code",
      "metadata": {
        "id": "YzoSYSCoR_6M"
      },
      "source": [
        "if 'foo' in ['bar', 'baz', 'quux']:\n",
        "  print('Expression was true')\n",
        "  print('Executing statement in suite')\n",
        "  print('...')\n",
        "  print('Done.')\n",
        "  print('After conditional')"
      ],
      "execution_count": 15,
      "outputs": []
    },
    {
      "cell_type": "code",
      "metadata": {
        "id": "LnP3ukYXSvZK",
        "outputId": "476615ac-c98f-4306-d9e9-de01b9f9094c",
        "colab": {
          "base_uri": "https://localhost:8080/",
          "height": 0
        }
      },
      "source": [
        "# Does line execute?\n",
        "#\n",
        "if 'foo' in ['foo', 'bar', 'baz']:\n",
        "  print('Outer condition is true')\n",
        "\n",
        "  "
      ],
      "execution_count": 19,
      "outputs": [
        {
          "output_type": "stream",
          "name": "stdout",
          "text": [
            "Outer condition is true\n"
          ]
        }
      ]
    },
    {
      "cell_type": "code",
      "metadata": {
        "id": "ITfspfeQT-L6"
      },
      "source": [
        "if 10 > 20:\n",
        "  print('Inner condition 1')\n",
        "\n",
        "  print('Between inner conditions')\n"
      ],
      "execution_count": 17,
      "outputs": []
    },
    {
      "cell_type": "code",
      "metadata": {
        "id": "Zd7t39T2UQ1S"
      },
      "source": [
        "if 10 > 20:\n",
        "    print('Inner condition 2')\n",
        "\n",
        "    print('End of outter condition')\n",
        "    print('After outer condition')"
      ],
      "execution_count": 20,
      "outputs": []
    },
    {
      "cell_type": "code",
      "metadata": {
        "id": "ds69xw9lU8Gg",
        "outputId": "1dfe5143-d2ab-41d6-905e-a84a5612e396",
        "colab": {
          "base_uri": "https://localhost:8080/",
          "height": 0
        }
      },
      "source": [
        "x = 20\n",
        "\n",
        "if x < 50:\n",
        "  print('(first suite)')\n",
        "  print('x is small')\n",
        "else:\n",
        "    print('(second suite)')\n",
        "    print('x is large')"
      ],
      "execution_count": 27,
      "outputs": [
        {
          "output_type": "stream",
          "name": "stdout",
          "text": [
            "(first suite)\n",
            "x is small\n"
          ]
        }
      ]
    },
    {
      "cell_type": "code",
      "metadata": {
        "id": "_7s3ik9EYOJW",
        "outputId": "63313b91-ea6c-4067-b9b4-eba9ed2f324c",
        "colab": {
          "base_uri": "https://localhost:8080/",
          "height": 0
        }
      },
      "source": [
        "x = 120\n",
        "\n",
        "if x < 50:\n",
        "  print('(first suite)')\n",
        "  print('x is small')\n",
        "else:\n",
        "    print('(second suite)')\n",
        "    print('x is large')"
      ],
      "execution_count": 29,
      "outputs": [
        {
          "output_type": "stream",
          "name": "stdout",
          "text": [
            "(second suite)\n",
            "x is large\n"
          ]
        }
      ]
    },
    {
      "cell_type": "code",
      "metadata": {
        "id": "w1JM0wegYaUq",
        "outputId": "99563f4e-94dd-42b3-b920-39584a51a0a0",
        "colab": {
          "base_uri": "https://localhost:8080/",
          "height": 0
        }
      },
      "source": [
        "name = 'Vanessa'\n",
        "if name == 'Vanessa':\n",
        "  print('Hello Vanessa')\n",
        "elif name == 'Xander':\n",
        "  print('Hello Xander')\n",
        "elif name =='Prom':\n",
        "  print('Hello Prom')\n",
        "elif name =='Sheldon':\n",
        "  print('Hello Sheldon')\n",
        "else:\n",
        "  print(\"I don't know who you are!\")"
      ],
      "execution_count": 34,
      "outputs": [
        {
          "output_type": "stream",
          "name": "stdout",
          "text": [
            "Hello Vanessa\n"
          ]
        }
      ]
    },
    {
      "cell_type": "code",
      "metadata": {
        "id": "ALOyrjyNahSg",
        "outputId": "80b10e8d-5cb1-4c06-848a-a2c1c4befd88",
        "colab": {
          "base_uri": "https://localhost:8080/",
          "height": 0
        }
      },
      "source": [
        "names = {\n",
        "    'Vanessa': 'Hello Vanessa',\n",
        "    'Xander': 'Hello Xander',\n",
        "    'Prom': 'Hello Prom',\n",
        "    'Sheldon': 'Hello Sheldon'\n",
        "}\n",
        "\n",
        "print(names.get('Prom', \"I don't Know who you are!\"))\n",
        "\n",
        "print(names.get('Rick', \"I don't know who you are!\"))"
      ],
      "execution_count": 38,
      "outputs": [
        {
          "output_type": "stream",
          "name": "stdout",
          "text": [
            "Hello Prom\n",
            "I don't know who you are!\n"
          ]
        }
      ]
    },
    {
      "cell_type": "code",
      "metadata": {
        "id": "iWBaM7HTb2AO",
        "outputId": "79123deb-1ef7-4b61-8010-875229e0622a",
        "colab": {
          "base_uri": "https://localhost:8080/",
          "height": 0
        }
      },
      "source": [
        "x = 2\n",
        "if x == 1: print('foo'); print('bar'); print('baz')\n",
        "elif x == 2: print('qux'); print('quux')\n",
        "else: print('corge'); print('grault')"
      ],
      "execution_count": 39,
      "outputs": [
        {
          "output_type": "stream",
          "name": "stdout",
          "text": [
            "qux\n",
            "quux\n"
          ]
        }
      ]
    },
    {
      "cell_type": "code",
      "metadata": {
        "id": "LgV1kDjgcdtU",
        "outputId": "b308efee-7543-4fd4-ae07-a7699311320c",
        "colab": {
          "base_uri": "https://localhost:8080/",
          "height": 0
        }
      },
      "source": [
        "x = 3\n",
        "if x == 1: print('foo'); print('bar'); print('baz')\n",
        "elif x == 2: print('qux'); print('quux')\n",
        "else: print('corge'); print('grault')"
      ],
      "execution_count": 40,
      "outputs": [
        {
          "output_type": "stream",
          "name": "stdout",
          "text": [
            "corge\n",
            "grault\n"
          ]
        }
      ]
    },
    {
      "cell_type": "code",
      "metadata": {
        "id": "Y_tEGh4BdC0C",
        "outputId": "fb118250-f841-4894-9e7a-e3c221d64799",
        "colab": {
          "base_uri": "https://localhost:8080/",
          "height": 0
        }
      },
      "source": [
        "x = 3\n",
        "if x == 1:\n",
        "  print('foo')\n",
        "  print('bar')\n",
        "  print('baz')\n",
        "elif x == 2:\n",
        "  print('qux')\n",
        "  print('quux')\n",
        "\n",
        "else:\n",
        "  print('corge')\n",
        "  print('grault')"
      ],
      "execution_count": 42,
      "outputs": [
        {
          "output_type": "stream",
          "name": "stdout",
          "text": [
            "corge\n",
            "grault\n"
          ]
        }
      ]
    },
    {
      "cell_type": "code",
      "metadata": {
        "id": "16kOwNS6dzVQ",
        "outputId": "fc5f791f-dde6-4b53-a0cf-dacfbfaa73e4",
        "colab": {
          "base_uri": "https://localhost:8080/",
          "height": 0
        }
      },
      "source": [
        "debugging = True # Set to True to turn debugging on.\n",
        "\n",
        "if debugging: print('About to call function foo()')\n"
      ],
      "execution_count": 44,
      "outputs": [
        {
          "output_type": "stream",
          "name": "stdout",
          "text": [
            "About to call function foo()\n"
          ]
        }
      ]
    },
    {
      "cell_type": "code",
      "metadata": {
        "id": "lf2x_t8Wedh-",
        "outputId": "182d3bb1-42ea-4995-a8a8-bcb4b67fb756",
        "colab": {
          "base_uri": "https://localhost:8080/",
          "height": 0
        }
      },
      "source": [
        "raining = False\n",
        "print(\"Let's go to the\", 'beach' if not raining else 'library')"
      ],
      "execution_count": 47,
      "outputs": [
        {
          "output_type": "stream",
          "name": "stdout",
          "text": [
            "Let's go to the beach\n"
          ]
        }
      ]
    },
    {
      "cell_type": "code",
      "metadata": {
        "id": "9a6Q1Db3ewJO",
        "outputId": "52132a5e-4694-436e-da43-9650c99401b3",
        "colab": {
          "base_uri": "https://localhost:8080/",
          "height": 0
        }
      },
      "source": [
        "raining = True\n",
        "print(\"Let's go to the\", 'beach' if not raining else 'library')"
      ],
      "execution_count": 49,
      "outputs": [
        {
          "output_type": "stream",
          "name": "stdout",
          "text": [
            "Let's go to the library\n"
          ]
        }
      ]
    },
    {
      "cell_type": "code",
      "metadata": {
        "id": "KB31nCjhfQ_g",
        "outputId": "5276bedd-0329-4c87-b3ec-7272293266c9",
        "colab": {
          "base_uri": "https://localhost:8080/",
          "height": 36
        }
      },
      "source": [
        "age = 12\n",
        "s = 'minor' if age <21 else 'adult'\n",
        "\n",
        "'yes' if ('qux' in ['foo', 'bar', 'baz']) else 'no'"
      ],
      "execution_count": 54,
      "outputs": [
        {
          "output_type": "execute_result",
          "data": {
            "application/vnd.google.colaboratory.intrinsic+json": {
              "type": "string"
            },
            "text/plain": [
              "'no'"
            ]
          },
          "metadata": {},
          "execution_count": 54
        }
      ]
    },
    {
      "cell_type": "code",
      "metadata": {
        "id": "m_5MevDShSfO",
        "outputId": "b7497fc7-5c68-4342-c58c-ac81b1890e35",
        "colab": {
          "base_uri": "https://localhost:8080/"
        }
      },
      "source": [
        "x = y = 40\n",
        "\n",
        "z = 1 + x if x > y else y + 2\n",
        "print(z)"
      ],
      "execution_count": 56,
      "outputs": [
        {
          "output_type": "stream",
          "name": "stdout",
          "text": [
            "42\n"
          ]
        }
      ]
    },
    {
      "cell_type": "code",
      "metadata": {
        "id": "QKB5OECxheUg",
        "outputId": "ea1e649b-5854-47ae-a67c-4b4d1c870c24",
        "colab": {
          "base_uri": "https://localhost:8080/"
        }
      },
      "source": [
        "z = (1 + x) if x > y else (y + 2)\n",
        "print(z)"
      ],
      "execution_count": 57,
      "outputs": [
        {
          "output_type": "stream",
          "name": "stdout",
          "text": [
            "42\n"
          ]
        }
      ]
    },
    {
      "cell_type": "code",
      "metadata": {
        "id": "UhfOH--ihweC",
        "outputId": "00b823c4-2856-49dc-e450-dbd771353786",
        "colab": {
          "base_uri": "https://localhost:8080/"
        }
      },
      "source": [
        "x = y = 40\n",
        "\n",
        "z = 1 + (x if x > y else y) + 2\n",
        "print(z)"
      ],
      "execution_count": 59,
      "outputs": [
        {
          "output_type": "stream",
          "name": "stdout",
          "text": [
            "43\n"
          ]
        }
      ]
    },
    {
      "cell_type": "code",
      "metadata": {
        "id": "vNXsy4iEiI_6",
        "outputId": "24e81079-9ef1-415c-d607-7227db2d1223",
        "colab": {
          "base_uri": "https://localhost:8080/",
          "height": 36
        }
      },
      "source": [
        "'foo' if True else 1/0"
      ],
      "execution_count": 60,
      "outputs": [
        {
          "output_type": "execute_result",
          "data": {
            "application/vnd.google.colaboratory.intrinsic+json": {
              "type": "string"
            },
            "text/plain": [
              "'foo'"
            ]
          },
          "metadata": {},
          "execution_count": 60
        }
      ]
    },
    {
      "cell_type": "code",
      "metadata": {
        "id": "o7xSdvs5iUNO",
        "outputId": "cb463369-bf67-4a8f-de84-68db77ebaa57",
        "colab": {
          "base_uri": "https://localhost:8080/",
          "height": 36
        }
      },
      "source": [
        "1/0 if False else 'bar'"
      ],
      "execution_count": 61,
      "outputs": [
        {
          "output_type": "execute_result",
          "data": {
            "application/vnd.google.colaboratory.intrinsic+json": {
              "type": "string"
            },
            "text/plain": [
              "'bar'"
            ]
          },
          "metadata": {},
          "execution_count": 61
        }
      ]
    },
    {
      "cell_type": "code",
      "metadata": {
        "id": "NZHbjskRiZga",
        "outputId": "8a171dfd-56a8-45c1-9bb1-80190ef1aea2",
        "colab": {
          "base_uri": "https://localhost:8080/"
        }
      },
      "source": [
        "s = ('foo' if (x ==1) else\n",
        "     'bar' if (x ==2) else\n",
        "     'baz' if (x ==3) else\n",
        "     'qux' if (x ==4) else\n",
        "     'quux'\n",
        "\n",
        ")\n",
        "print(s)"
      ],
      "execution_count": 67,
      "outputs": [
        {
          "output_type": "stream",
          "name": "stdout",
          "text": [
            "quux\n"
          ]
        }
      ]
    },
    {
      "cell_type": "code",
      "metadata": {
        "id": "WNIW1xrujhOG"
      },
      "source": [
        ""
      ],
      "execution_count": null,
      "outputs": []
    }
  ]
}