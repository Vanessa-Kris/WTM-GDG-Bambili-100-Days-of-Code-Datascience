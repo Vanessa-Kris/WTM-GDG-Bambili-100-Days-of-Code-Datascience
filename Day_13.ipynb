{
  "nbformat": 4,
  "nbformat_minor": 0,
  "metadata": {
    "colab": {
      "name": "Day 13.ipynb",
      "provenance": [],
      "collapsed_sections": [],
      "authorship_tag": "ABX9TyOxEaRfc5rfK/9QvotJ1vFV",
      "include_colab_link": true
    },
    "kernelspec": {
      "display_name": "Python 3",
      "name": "python3"
    },
    "language_info": {
      "name": "python"
    }
  },
  "cells": [
    {
      "cell_type": "markdown",
      "metadata": {
        "id": "view-in-github",
        "colab_type": "text"
      },
      "source": [
        "<a href=\"https://colab.research.google.com/github/Vanessa-Kris/WTM-GDG-Bambili-100-Days-of-Code-Datascience/blob/main/Day_13.ipynb\" target=\"_parent\"><img src=\"https://colab.research.google.com/assets/colab-badge.svg\" alt=\"Open In Colab\"/></a>"
      ]
    },
    {
      "cell_type": "code",
      "metadata": {
        "colab": {
          "base_uri": "https://localhost:8080/"
        },
        "id": "o9tlUK6DlNev",
        "outputId": "6866aff6-ad83-4bfe-930e-abfa6d344871"
      },
      "source": [
        "numbers = [1, 2, 3, 4, 5]\n",
        "squared = []\n",
        "\n",
        "for num in numbers:\n",
        "  squared.append(num **2)\n",
        "\n",
        "  print(squared)"
      ],
      "execution_count": null,
      "outputs": [
        {
          "name": "stdout",
          "output_type": "stream",
          "text": [
            "[1]\n",
            "[1, 4]\n",
            "[1, 4, 9]\n",
            "[1, 4, 9, 16]\n",
            "[1, 4, 9, 16, 25]\n"
          ]
        }
      ]
    },
    {
      "cell_type": "code",
      "metadata": {
        "id": "GmeCpGRqmbw9"
      },
      "source": [
        "def square(number):\n",
        "  return number ** 2\n",
        "\n",
        "  numbers = [1, 2, 3, 4, 5]\n",
        "\n",
        "  squared = map(square, numbers)\n",
        "\n",
        "  list(squared)\n"
      ],
      "execution_count": null,
      "outputs": []
    },
    {
      "cell_type": "code",
      "metadata": {
        "colab": {
          "base_uri": "https://localhost:8080/"
        },
        "id": "tpIOp5SOngJz",
        "outputId": "d1b99eda-96f2-459b-9257-f0b55997d20f"
      },
      "source": [
        "str_nums = [\"4\", \"8\", \"6\", \"5\", \"3\", \"2\", \"8\", \"9\", \"2\", \"5\"]\n",
        "\n",
        "int_nums = map(int, str_nums)\n",
        "int_nums"
      ],
      "execution_count": null,
      "outputs": [
        {
          "data": {
            "text/plain": [
              "<map at 0x7f2150f48a10>"
            ]
          },
          "execution_count": 11,
          "metadata": {},
          "output_type": "execute_result"
        }
      ]
    },
    {
      "cell_type": "code",
      "metadata": {
        "colab": {
          "base_uri": "https://localhost:8080/"
        },
        "id": "YMVfz00PoYMg",
        "outputId": "4882da7d-46e9-43f0-e6ef-e3a67236e91a"
      },
      "source": [
        "list(int_nums)"
      ],
      "execution_count": null,
      "outputs": [
        {
          "data": {
            "text/plain": [
              "[4, 8, 6, 5, 3, 2, 8, 9, 2, 5]"
            ]
          },
          "execution_count": 12,
          "metadata": {},
          "output_type": "execute_result"
        }
      ]
    },
    {
      "cell_type": "code",
      "metadata": {
        "colab": {
          "base_uri": "https://localhost:8080/"
        },
        "id": "-EipBbY-odYl",
        "outputId": "ab6d3cee-71fe-4d74-b041-27de8e976efc"
      },
      "source": [
        "str_nums"
      ],
      "execution_count": null,
      "outputs": [
        {
          "data": {
            "text/plain": [
              "['4', '8', '6', '5', '3', '2', '8', '9', '2', '5']"
            ]
          },
          "execution_count": 13,
          "metadata": {},
          "output_type": "execute_result"
        }
      ]
    },
    {
      "cell_type": "code",
      "metadata": {
        "colab": {
          "base_uri": "https://localhost:8080/"
        },
        "id": "SmuOWKbXohHb",
        "outputId": "ce5c5f8f-dd95-4073-d6d7-395fc75bad8e"
      },
      "source": [
        "numbers = [-2, -1, 0, 1, 2]\n",
        "\n",
        "abs_values = list(map(abs, numbers))\n",
        "abs_values"
      ],
      "execution_count": null,
      "outputs": [
        {
          "data": {
            "text/plain": [
              "[2, 1, 0, 1, 2]"
            ]
          },
          "execution_count": 14,
          "metadata": {},
          "output_type": "execute_result"
        }
      ]
    },
    {
      "cell_type": "code",
      "metadata": {
        "colab": {
          "base_uri": "https://localhost:8080/"
        },
        "id": "2kVPH6Pwo1ss",
        "outputId": "bb42269a-163e-497c-c806-a75bfcf3939f"
      },
      "source": [
        "list(map(float, numbers))\n"
      ],
      "execution_count": null,
      "outputs": [
        {
          "data": {
            "text/plain": [
              "[-2.0, -1.0, 0.0, 1.0, 2.0]"
            ]
          },
          "execution_count": 15,
          "metadata": {},
          "output_type": "execute_result"
        }
      ]
    },
    {
      "cell_type": "code",
      "metadata": {
        "colab": {
          "base_uri": "https://localhost:8080/"
        },
        "id": "WsA_3yP6o8-8",
        "outputId": "2cadde40-3db3-498a-938d-09a8734ec60f"
      },
      "source": [
        "words = [\"Welcome\", \"to\", \"Real\", \"Python\"]\n",
        "\n",
        "list(map(len, words))"
      ],
      "execution_count": null,
      "outputs": [
        {
          "data": {
            "text/plain": [
              "[7, 2, 4, 6]"
            ]
          },
          "execution_count": 16,
          "metadata": {},
          "output_type": "execute_result"
        }
      ]
    },
    {
      "cell_type": "code",
      "metadata": {
        "colab": {
          "base_uri": "https://localhost:8080/"
        },
        "id": "OIllVqMzqcoP",
        "outputId": "cc6b7851-df8b-4ad4-ccdc-435706571b73"
      },
      "source": [
        "numbers = [1, 2, 3, 4, 5]\n",
        "\n",
        "squared = map(lambda num: num ** 2, numbers)\n",
        "\n",
        "list(squared)"
      ],
      "execution_count": null,
      "outputs": [
        {
          "data": {
            "text/plain": [
              "[1, 4, 9, 16, 25]"
            ]
          },
          "execution_count": 18,
          "metadata": {},
          "output_type": "execute_result"
        }
      ]
    },
    {
      "cell_type": "code",
      "metadata": {
        "colab": {
          "base_uri": "https://localhost:8080/"
        },
        "id": "NKKMHRSOqu2k",
        "outputId": "0641be34-6754-4b57-a8d4-eeeaf932766e"
      },
      "source": [
        "first_it = [1, 2, 3]\n",
        "second_it =[4, 5, 6, 7]\n",
        "\n",
        "list(map(pow, first_it, second_it))"
      ],
      "execution_count": null,
      "outputs": [
        {
          "data": {
            "text/plain": [
              "[1, 32, 729]"
            ]
          },
          "execution_count": 20,
          "metadata": {},
          "output_type": "execute_result"
        }
      ]
    },
    {
      "cell_type": "code",
      "metadata": {
        "colab": {
          "base_uri": "https://localhost:8080/"
        },
        "id": "QeGnxtVCrHTw",
        "outputId": "cd8e9769-2f94-43ba-f2e0-624392714a1d"
      },
      "source": [
        "list(map(lambda x, y: x - y, [2, 4, 6], [1, 3, 5]))"
      ],
      "execution_count": null,
      "outputs": [
        {
          "data": {
            "text/plain": [
              "[1, 1, 1]"
            ]
          },
          "execution_count": 21,
          "metadata": {},
          "output_type": "execute_result"
        }
      ]
    },
    {
      "cell_type": "code",
      "metadata": {
        "colab": {
          "base_uri": "https://localhost:8080/"
        },
        "id": "bmaH5P55rtG5",
        "outputId": "bf070f05-93e5-4b6f-bc36-ae4c24d3742f"
      },
      "source": [
        "list(map(lambda x, y, z: x + y + z, [2, 4], [1, 3], [7, 8]))"
      ],
      "execution_count": null,
      "outputs": [
        {
          "data": {
            "text/plain": [
              "[10, 15]"
            ]
          },
          "execution_count": 22,
          "metadata": {},
          "output_type": "execute_result"
        }
      ]
    },
    {
      "cell_type": "code",
      "metadata": {
        "colab": {
          "base_uri": "https://localhost:8080/"
        },
        "id": "mkBqLh3vr-mB",
        "outputId": "0370447c-ec01-42d5-c121-fbc0ea5a9d68"
      },
      "source": [
        "string_it = [\"processing\", \"strings\", \"with\", \"map\"]\n",
        "list(map(str.capitalize, string_it))"
      ],
      "execution_count": null,
      "outputs": [
        {
          "data": {
            "text/plain": [
              "['Processing', 'Strings', 'With', 'Map']"
            ]
          },
          "execution_count": 24,
          "metadata": {},
          "output_type": "execute_result"
        }
      ]
    },
    {
      "cell_type": "code",
      "metadata": {
        "colab": {
          "base_uri": "https://localhost:8080/"
        },
        "id": "y6bJqlg7sW-G",
        "outputId": "09222b0c-f319-4077-bf5a-a445f3ccd999"
      },
      "source": [
        "list(map(str.upper, string_it))"
      ],
      "execution_count": null,
      "outputs": [
        {
          "data": {
            "text/plain": [
              "['PROCESSING', 'STRINGS', 'WITH', 'MAP']"
            ]
          },
          "execution_count": 25,
          "metadata": {},
          "output_type": "execute_result"
        }
      ]
    },
    {
      "cell_type": "code",
      "metadata": {
        "colab": {
          "base_uri": "https://localhost:8080/"
        },
        "id": "iGAXxLpTsvG_",
        "outputId": "02151338-be47-4227-87ba-7892a31082a9"
      },
      "source": [
        "list(map(str.lower, string_it))"
      ],
      "execution_count": null,
      "outputs": [
        {
          "data": {
            "text/plain": [
              "['processing', 'strings', 'with', 'map']"
            ]
          },
          "execution_count": 26,
          "metadata": {},
          "output_type": "execute_result"
        }
      ]
    },
    {
      "cell_type": "code",
      "metadata": {
        "colab": {
          "base_uri": "https://localhost:8080/"
        },
        "id": "tUHxf-qas3D8",
        "outputId": "f57653c9-d7b0-41aa-ac0e-715ab0c71413"
      },
      "source": [
        "with_spaces = [\"processing\", \" strings\", \"with  \", \" map   \"]\n",
        "list(map(str.strip, with_spaces))"
      ],
      "execution_count": null,
      "outputs": [
        {
          "data": {
            "text/plain": [
              "['processing', 'strings', 'with', 'map']"
            ]
          },
          "execution_count": 27,
          "metadata": {},
          "output_type": "execute_result"
        }
      ]
    },
    {
      "cell_type": "code",
      "metadata": {
        "colab": {
          "base_uri": "https://localhost:8080/"
        },
        "id": "2ZkYa37atX3N",
        "outputId": "b4e611ec-08df-48ab-c577-b4e2be3a170e"
      },
      "source": [
        "with_dots = [\"processing..\", \"...strings\", \"with....\", \"..map..\"]\n",
        "list(map(lambda s: s.strip (\".\"), with_dots))"
      ],
      "execution_count": null,
      "outputs": [
        {
          "data": {
            "text/plain": [
              "['processing', 'strings', 'with', 'map']"
            ]
          },
          "execution_count": 28,
          "metadata": {},
          "output_type": "execute_result"
        }
      ]
    },
    {
      "cell_type": "code",
      "metadata": {
        "id": "884j6yqOt8oD"
      },
      "source": [
        "import re\n",
        "\n",
        "def remove_punctuation(word):\n",
        "  return re.sub(r'[!?.:;,\"()-]', \"\", word)\n",
        "\n",
        "  remove_punctuation(\"...Python!\")"
      ],
      "execution_count": null,
      "outputs": []
    },
    {
      "cell_type": "code",
      "metadata": {
        "id": "cGQ-m3riupp1"
      },
      "source": [
        "def rotate_chr(c):\n",
        "  rot_by = 3\n",
        "  c = c.lower()\n",
        "  alphabet = \"abcdefghijklmnopqrstuvwxyz\"\n",
        "  #keep punctuation and whitespace\n",
        "  if c not in alphabet:\n",
        "    return c\n",
        "  rotated_pops = ord(c) + rot_by\n",
        " #If the rotated is inside the alphabet\n",
        "  if rotated_pops <= ord(alphabet [-1]):\n",
        "    return chr(rotated_pops)\n",
        "  #If the rotation goes beyond the alphabet\n",
        "    return chr(rotated_pops - len(alphabet))"
      ],
      "execution_count": null,
      "outputs": []
    },
    {
      "cell_type": "code",
      "metadata": {
        "colab": {
          "base_uri": "https://localhost:8080/"
        },
        "id": "7rTgD8l1yPgd",
        "outputId": "713f89b8-ae2a-4936-ab49-1c4d7e4d4ebb"
      },
      "source": [
        "ord(\"a\")"
      ],
      "execution_count": null,
      "outputs": [
        {
          "data": {
            "text/plain": [
              "97"
            ]
          },
          "execution_count": 33,
          "metadata": {},
          "output_type": "execute_result"
        }
      ]
    },
    {
      "cell_type": "code",
      "metadata": {
        "colab": {
          "base_uri": "https://localhost:8080/"
        },
        "id": "l_bBCxSAyp5h",
        "outputId": "6c5e0af5-ae57-47f8-a0c2-3d99dcaa5f2c"
      },
      "source": [
        "ord(\"b\")"
      ],
      "execution_count": null,
      "outputs": [
        {
          "data": {
            "text/plain": [
              "98"
            ]
          },
          "execution_count": 34,
          "metadata": {},
          "output_type": "execute_result"
        }
      ]
    },
    {
      "cell_type": "code",
      "metadata": {
        "colab": {
          "base_uri": "https://localhost:8080/"
        },
        "id": "w-kwkFiHys_O",
        "outputId": "d631c1e3-ac50-4f43-db57-673b81b98123"
      },
      "source": [
        "ord(\"d\")"
      ],
      "execution_count": null,
      "outputs": [
        {
          "data": {
            "text/plain": [
              "100"
            ]
          },
          "execution_count": 35,
          "metadata": {},
          "output_type": "execute_result"
        }
      ]
    },
    {
      "cell_type": "code",
      "metadata": {
        "colab": {
          "base_uri": "https://localhost:8080/",
          "height": 36
        },
        "id": "-GXKi_Gayvu7",
        "outputId": "f2f5c968-0aa9-4138-a972-a953d766f5f7"
      },
      "source": [
        "chr(97)"
      ],
      "execution_count": null,
      "outputs": [
        {
          "data": {
            "application/vnd.google.colaboratory.intrinsic+json": {
              "type": "string"
            },
            "text/plain": [
              "'a'"
            ]
          },
          "execution_count": 36,
          "metadata": {},
          "output_type": "execute_result"
        }
      ]
    },
    {
      "cell_type": "code",
      "metadata": {
        "colab": {
          "base_uri": "https://localhost:8080/",
          "height": 36
        },
        "id": "RC_StsMay20o",
        "outputId": "5aef8f49-900e-48e9-c3f2-1d6838858ced"
      },
      "source": [
        "chr(98)"
      ],
      "execution_count": null,
      "outputs": [
        {
          "data": {
            "application/vnd.google.colaboratory.intrinsic+json": {
              "type": "string"
            },
            "text/plain": [
              "'b'"
            ]
          },
          "execution_count": 37,
          "metadata": {},
          "output_type": "execute_result"
        }
      ]
    },
    {
      "cell_type": "code",
      "metadata": {
        "id": "HUETmQAVy5pZ"
      },
      "source": [
        "def powers(x):\n",
        "  return x ** 2, x ** 3\n",
        "\n",
        "  numbers = [1, 2, 3, 4]\n",
        "\n",
        "  list(map(powers, numbers))"
      ],
      "execution_count": 1,
      "outputs": []
    },
    {
      "cell_type": "code",
      "metadata": {
        "id": "LqbqbU_AzJFB",
        "colab": {
          "base_uri": "https://localhost:8080/"
        },
        "outputId": "aef6fdab-6a98-48d1-a812-ae8af99f9854"
      },
      "source": [
        "list(map(float, [\"12.3\", \"3.3\", \"-15.2\"]))"
      ],
      "execution_count": 3,
      "outputs": [
        {
          "output_type": "execute_result",
          "data": {
            "text/plain": [
              "[12.3, 3.3, -15.2]"
            ]
          },
          "metadata": {},
          "execution_count": 3
        }
      ]
    },
    {
      "cell_type": "code",
      "metadata": {
        "colab": {
          "base_uri": "https://localhost:8080/"
        },
        "id": "Z3NXfXdiq73T",
        "outputId": "dc0f007c-080c-4682-b600-18895e718ea4"
      },
      "source": [
        "list(map(int, [\"12\", \"3\", \"-15\"]))"
      ],
      "execution_count": 4,
      "outputs": [
        {
          "output_type": "execute_result",
          "data": {
            "text/plain": [
              "[12, 3, -15]"
            ]
          },
          "metadata": {},
          "execution_count": 4
        }
      ]
    }
  ]
}