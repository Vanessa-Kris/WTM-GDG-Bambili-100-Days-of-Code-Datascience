{
  "nbformat": 4,
  "nbformat_minor": 0,
  "metadata": {
    "colab": {
      "name": "Day10.ipynb",
      "provenance": [],
      "authorship_tag": "ABX9TyMdz+sHsVnWdhwhSNpKe9pl",
      "include_colab_link": true
    },
    "kernelspec": {
      "name": "python3",
      "display_name": "Python 3"
    },
    "language_info": {
      "name": "python"
    }
  },
  "cells": [
    {
      "cell_type": "markdown",
      "metadata": {
        "id": "view-in-github",
        "colab_type": "text"
      },
      "source": [
        "<a href=\"https://colab.research.google.com/github/Vanessa-Kris/WTM-GDG-Bambili-100-Days-of-Code-Datascience/blob/main/Day10.ipynb\" target=\"_parent\"><img src=\"https://colab.research.google.com/assets/colab-badge.svg\" alt=\"Open In Colab\"/></a>"
      ]
    },
    {
      "cell_type": "code",
      "metadata": {
        "colab": {
          "base_uri": "https://localhost:8080/"
        },
        "id": "vvif_2SLEaIw",
        "outputId": "2695fa12-d1cb-4d84-f40d-d1a27bd78da8"
      },
      "source": [
        "n = 5 \n",
        "while n > 0:\n",
        "  n -=1\n",
        "  print(n)"
      ],
      "execution_count": 2,
      "outputs": [
        {
          "output_type": "stream",
          "name": "stdout",
          "text": [
            "4\n",
            "3\n",
            "2\n",
            "1\n",
            "0\n"
          ]
        }
      ]
    },
    {
      "cell_type": "code",
      "metadata": {
        "id": "aYrl3RO1Eirz"
      },
      "source": [
        "n = 0\n",
        "while n > 0:\n",
        "  n -=1\n",
        "  print(n)"
      ],
      "execution_count": 3,
      "outputs": []
    },
    {
      "cell_type": "code",
      "metadata": {
        "colab": {
          "base_uri": "https://localhost:8080/"
        },
        "id": "WVYG8RcHExfX",
        "outputId": "5127e5e1-805b-4c13-dd2c-a3d1c87de8eb"
      },
      "source": [
        "a = ['foo', 'bar', 'baz']\n",
        "while a:\n",
        "  print(a.pop(-1))\n"
      ],
      "execution_count": 4,
      "outputs": [
        {
          "output_type": "stream",
          "name": "stdout",
          "text": [
            "baz\n",
            "bar\n",
            "foo\n"
          ]
        }
      ]
    },
    {
      "cell_type": "code",
      "metadata": {
        "colab": {
          "base_uri": "https://localhost:8080/"
        },
        "id": "lvu_qLIvE1g1",
        "outputId": "c9b4128f-e28b-43e6-ff4e-b77b4fe5cea2"
      },
      "source": [
        "a = ['foo', 'bar', 'baz']\n",
        "while a:\n",
        "  print(a.pop(-1))\n"
      ],
      "execution_count": 5,
      "outputs": [
        {
          "output_type": "stream",
          "name": "stdout",
          "text": [
            "baz\n",
            "bar\n",
            "foo\n"
          ]
        }
      ]
    },
    {
      "cell_type": "code",
      "metadata": {
        "colab": {
          "base_uri": "https://localhost:8080/"
        },
        "id": "Zsv_aLECFCE2",
        "outputId": "6083cd0d-348c-4b48-f9b2-d8192ee6540e"
      },
      "source": [
        "n = 5\n",
        "while n > 0: n -= 1; print(n)"
      ],
      "execution_count": 8,
      "outputs": [
        {
          "output_type": "stream",
          "name": "stdout",
          "text": [
            "4\n",
            "3\n",
            "2\n",
            "1\n",
            "0\n"
          ]
        }
      ]
    },
    {
      "cell_type": "code",
      "metadata": {
        "colab": {
          "base_uri": "https://localhost:8080/"
        },
        "id": "RrBuDVZMFKoI",
        "outputId": "d6ca892b-e9b9-45c4-aad3-3fb99f6b3dbe"
      },
      "source": [
        "a = ['foo', 'bar']\n",
        "while(a):\n",
        "  print(a.pop(0))\n",
        "  b = ['baz', 'qux']\n",
        "  while len(b):\n",
        "    print('<', b.pop(0))\n"
      ],
      "execution_count": 9,
      "outputs": [
        {
          "output_type": "stream",
          "name": "stdout",
          "text": [
            "foo\n",
            "< baz\n",
            "< qux\n",
            "bar\n",
            "< baz\n",
            "< qux\n"
          ]
        }
      ]
    }
  ]
}