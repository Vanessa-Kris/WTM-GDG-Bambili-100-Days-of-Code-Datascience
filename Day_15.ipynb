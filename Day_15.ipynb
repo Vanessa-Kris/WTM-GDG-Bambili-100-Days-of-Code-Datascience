{
  "nbformat": 4,
  "nbformat_minor": 0,
  "metadata": {
    "colab": {
      "name": "Day 15.ipynb",
      "provenance": [],
      "collapsed_sections": [],
      "authorship_tag": "ABX9TyOL2+T3iPTH0nBrZaUQb0Q4",
      "include_colab_link": true
    },
    "kernelspec": {
      "name": "python3",
      "display_name": "Python 3"
    },
    "language_info": {
      "name": "python"
    }
  },
  "cells": [
    {
      "cell_type": "markdown",
      "metadata": {
        "id": "view-in-github",
        "colab_type": "text"
      },
      "source": [
        "<a href=\"https://colab.research.google.com/github/Vanessa-Kris/WTM-GDG-Bambili-100-Days-of-Code-Datascience/blob/main/Day_15.ipynb\" target=\"_parent\"><img src=\"https://colab.research.google.com/assets/colab-badge.svg\" alt=\"Open In Colab\"/></a>"
      ]
    },
    {
      "cell_type": "code",
      "metadata": {
        "id": "udeRv10ODl50",
        "colab": {
          "base_uri": "https://localhost:8080/"
        },
        "outputId": "efa19814-ddef-46b7-aed1-b4a058475395"
      },
      "source": [
        "s = input()"
      ],
      "execution_count": 1,
      "outputs": [
        {
          "name": "stdout",
          "output_type": "stream",
          "text": [
            "1\n"
          ]
        }
      ]
    },
    {
      "cell_type": "code",
      "metadata": {
        "id": "380tHAl3DyYp",
        "colab": {
          "base_uri": "https://localhost:8080/",
          "height": 35
        },
        "outputId": "9abd664d-5ce6-499b-d441-f07954ed063f"
      },
      "source": [
        "s"
      ],
      "execution_count": 2,
      "outputs": [
        {
          "output_type": "execute_result",
          "data": {
            "application/vnd.google.colaboratory.intrinsic+json": {
              "type": "string"
            },
            "text/plain": [
              "'1'"
            ]
          },
          "metadata": {},
          "execution_count": 2
        }
      ]
    },
    {
      "cell_type": "code",
      "metadata": {
        "id": "Er6lQautEmgy",
        "colab": {
          "base_uri": "https://localhost:8080/"
        },
        "outputId": "dd3a084b-55b1-4fb6-cd3d-c59ca8b10ac8"
      },
      "source": [
        "n = int(input('Enter a number: '))"
      ],
      "execution_count": 3,
      "outputs": [
        {
          "name": "stdout",
          "output_type": "stream",
          "text": [
            "Enter a number: 1\n"
          ]
        }
      ]
    },
    {
      "cell_type": "code",
      "metadata": {
        "id": "Yf6USZHzE5EW",
        "colab": {
          "base_uri": "https://localhost:8080/"
        },
        "outputId": "9edb6577-c322-4033-a130-6a05f6257910"
      },
      "source": [
        "print(n + 100)"
      ],
      "execution_count": 4,
      "outputs": [
        {
          "output_type": "stream",
          "name": "stdout",
          "text": [
            "101\n"
          ]
        }
      ]
    },
    {
      "cell_type": "code",
      "metadata": {
        "id": "fO2e2uWPE74z",
        "colab": {
          "base_uri": "https://localhost:8080/"
        },
        "outputId": "728df916-58af-4d80-fb81-8b13ab742379"
      },
      "source": [
        "fname = 'Winston'\n",
        "lname = 'Smith' \n",
        "\n",
        "print('Name:', fname, lname)"
      ],
      "execution_count": 6,
      "outputs": [
        {
          "output_type": "stream",
          "name": "stdout",
          "text": [
            "Name: Winston Smith\n"
          ]
        }
      ]
    },
    {
      "cell_type": "code",
      "metadata": {
        "id": "7oA0PEs1FQpA",
        "colab": {
          "base_uri": "https://localhost:8080/"
        },
        "outputId": "2d1ca3b2-e3b7-4fbb-ab14-aa14fa33bcab"
      },
      "source": [
        "a = [1, 2, 3]\n",
        "type(a)"
      ],
      "execution_count": 7,
      "outputs": [
        {
          "output_type": "execute_result",
          "data": {
            "text/plain": [
              "list"
            ]
          },
          "metadata": {},
          "execution_count": 7
        }
      ]
    },
    {
      "cell_type": "code",
      "metadata": {
        "id": "6FtfNx_QFWZR",
        "colab": {
          "base_uri": "https://localhost:8080/"
        },
        "outputId": "2ed0eca3-b174-46f2-b6c4-7171b86eb0ae"
      },
      "source": [
        "b = -12\n",
        "type(b)"
      ],
      "execution_count": 8,
      "outputs": [
        {
          "output_type": "execute_result",
          "data": {
            "text/plain": [
              "int"
            ]
          },
          "metadata": {},
          "execution_count": 8
        }
      ]
    },
    {
      "cell_type": "code",
      "metadata": {
        "id": "ahp1gLihFidc",
        "colab": {
          "base_uri": "https://localhost:8080/"
        },
        "outputId": "a369d9cf-a870-4d52-ce58-f89ad9630d10"
      },
      "source": [
        "d = {'foo': 1, 'bar': 2}\n",
        "type(d)"
      ],
      "execution_count": 10,
      "outputs": [
        {
          "output_type": "execute_result",
          "data": {
            "text/plain": [
              "dict"
            ]
          },
          "metadata": {},
          "execution_count": 10
        }
      ]
    },
    {
      "cell_type": "code",
      "metadata": {
        "id": "XwnjmpFZFrR-",
        "colab": {
          "base_uri": "https://localhost:8080/"
        },
        "outputId": "bb3b4d0a-c78d-43e4-af44-f81fdb203727"
      },
      "source": [
        "type(len)"
      ],
      "execution_count": 11,
      "outputs": [
        {
          "output_type": "execute_result",
          "data": {
            "text/plain": [
              "builtin_function_or_method"
            ]
          },
          "metadata": {},
          "execution_count": 11
        }
      ]
    },
    {
      "cell_type": "code",
      "metadata": {
        "id": "mBx1kFytFvBv",
        "colab": {
          "base_uri": "https://localhost:8080/"
        },
        "outputId": "674b5138-9eb5-45a7-a86a-53f89250f831"
      },
      "source": [
        "print(a, b, d, len)"
      ],
      "execution_count": 13,
      "outputs": [
        {
          "output_type": "stream",
          "name": "stdout",
          "text": [
            "[1, 2, 3] -12 {'foo': 1, 'bar': 2} <built-in function len>\n"
          ]
        }
      ]
    },
    {
      "cell_type": "code",
      "metadata": {
        "id": "BbJDmDypF3LL",
        "colab": {
          "base_uri": "https://localhost:8080/"
        },
        "outputId": "2f7d34c8-bfe0-425d-9907-210afb31269c"
      },
      "source": [
        "print('foo', 42, 'bar')"
      ],
      "execution_count": 14,
      "outputs": [
        {
          "output_type": "stream",
          "name": "stdout",
          "text": [
            "foo 42 bar\n"
          ]
        }
      ]
    },
    {
      "cell_type": "code",
      "metadata": {
        "id": "OXwBUxs5F98G",
        "colab": {
          "base_uri": "https://localhost:8080/"
        },
        "outputId": "0eebd077-6223-4038-9b69-4b87890a37df"
      },
      "source": [
        "print('foo', 42, 'bar', sep='/')"
      ],
      "execution_count": 15,
      "outputs": [
        {
          "output_type": "stream",
          "name": "stdout",
          "text": [
            "foo/42/bar\n"
          ]
        }
      ]
    },
    {
      "cell_type": "code",
      "metadata": {
        "id": "p6LnGoGiGGox",
        "colab": {
          "base_uri": "https://localhost:8080/"
        },
        "outputId": "0bf5db77-be32-4634-a7eb-7af2c7af0550"
      },
      "source": [
        "print('foo', 42, 'bar', sep='...')"
      ],
      "execution_count": 16,
      "outputs": [
        {
          "output_type": "stream",
          "name": "stdout",
          "text": [
            "foo...42...bar\n"
          ]
        }
      ]
    },
    {
      "cell_type": "code",
      "metadata": {
        "id": "0lxYJrLEGSB9",
        "colab": {
          "base_uri": "https://localhost:8080/"
        },
        "outputId": "77541f85-c740-42e2-ba9e-7043234e1fa2"
      },
      "source": [
        "d = {'foo': 1,'bar': 2, 'baz': 3}\n",
        "for k, v in d.items():\n",
        "  print(k, v, sep=' -> ')"
      ],
      "execution_count": 17,
      "outputs": [
        {
          "output_type": "stream",
          "name": "stdout",
          "text": [
            "foo -> 1\n",
            "bar -> 2\n",
            "baz -> 3\n"
          ]
        }
      ]
    },
    {
      "cell_type": "code",
      "metadata": {
        "id": "Vanuc-ZyHDEr",
        "colab": {
          "base_uri": "https://localhost:8080/"
        },
        "outputId": "992f7b6c-c603-43be-c44a-1a61cade3d7b"
      },
      "source": [
        "if True:\n",
        "  print('foo', end='/')\n",
        "  print(42, end='/')\n",
        "  print('bar')"
      ],
      "execution_count": 18,
      "outputs": [
        {
          "output_type": "stream",
          "name": "stdout",
          "text": [
            "foo/42/bar\n"
          ]
        }
      ]
    },
    {
      "cell_type": "code",
      "metadata": {
        "id": "cceDhDqZHsnj",
        "colab": {
          "base_uri": "https://localhost:8080/"
        },
        "outputId": "8e09419b-fd1a-49b3-9f33-bc6f23d1c9cf"
      },
      "source": [
        "for n in range(10):\n",
        "  print(n)"
      ],
      "execution_count": 19,
      "outputs": [
        {
          "output_type": "stream",
          "name": "stdout",
          "text": [
            "0\n",
            "1\n",
            "2\n",
            "3\n",
            "4\n",
            "5\n",
            "6\n",
            "7\n",
            "8\n",
            "9\n"
          ]
        }
      ]
    },
    {
      "cell_type": "code",
      "metadata": {
        "id": "HoDtaNdcH6CK",
        "colab": {
          "base_uri": "https://localhost:8080/"
        },
        "outputId": "67985795-535b-44f5-9f4a-9943c25f4a37"
      },
      "source": [
        "for n in range(10):\n",
        "  print(n, end=('' if n < 9 else '\\n'))"
      ],
      "execution_count": 20,
      "outputs": [
        {
          "output_type": "stream",
          "name": "stdout",
          "text": [
            "0123456789\n"
          ]
        }
      ]
    },
    {
      "cell_type": "code",
      "metadata": {
        "id": "sMk_QzzqII_0",
        "colab": {
          "base_uri": "https://localhost:8080/"
        },
        "outputId": "c7215443-12c3-45eb-94a3-fd4ef73d8b55"
      },
      "source": [
        "11 % 3"
      ],
      "execution_count": 21,
      "outputs": [
        {
          "output_type": "execute_result",
          "data": {
            "text/plain": [
              "2"
            ]
          },
          "metadata": {},
          "execution_count": 21
        }
      ]
    },
    {
      "cell_type": "code",
      "metadata": {
        "id": "969CYSooINdZ",
        "colab": {
          "base_uri": "https://localhost:8080/"
        },
        "outputId": "a0eb5045-2521-4a87-e6f4-80744e6767ce"
      },
      "source": [
        "print('Hello, my name is %s.' % 'Graham')"
      ],
      "execution_count": 22,
      "outputs": [
        {
          "output_type": "stream",
          "name": "stdout",
          "text": [
            "Hello, my name is Graham.\n"
          ]
        }
      ]
    },
    {
      "cell_type": "code",
      "metadata": {
        "id": "oxN3CJKxIYhU",
        "colab": {
          "base_uri": "https://localhost:8080/",
          "height": 35
        },
        "outputId": "0b5067ac-5ba5-4594-f110-e466e4772e50"
      },
      "source": [
        "'%d, %i, %u' % (42, 42, 42)"
      ],
      "execution_count": 23,
      "outputs": [
        {
          "output_type": "execute_result",
          "data": {
            "application/vnd.google.colaboratory.intrinsic+json": {
              "type": "string"
            },
            "text/plain": [
              "'42, 42, 42'"
            ]
          },
          "metadata": {},
          "execution_count": 23
        }
      ]
    },
    {
      "cell_type": "code",
      "metadata": {
        "id": "Cp0Q4NbRIns8",
        "colab": {
          "base_uri": "https://localhost:8080/",
          "height": 35
        },
        "outputId": "d7cb8fb1-df4d-43c1-e649-a7242d1873fb"
      },
      "source": [
        "'%d, %i, %u' % (-42, -42, -42)"
      ],
      "execution_count": 24,
      "outputs": [
        {
          "output_type": "execute_result",
          "data": {
            "application/vnd.google.colaboratory.intrinsic+json": {
              "type": "string"
            },
            "text/plain": [
              "'-42, -42, -42'"
            ]
          },
          "metadata": {},
          "execution_count": 24
        }
      ]
    },
    {
      "cell_type": "code",
      "metadata": {
        "id": "RG-FFv-oIucL",
        "colab": {
          "base_uri": "https://localhost:8080/",
          "height": 35
        },
        "outputId": "25f28490-c260-4cac-c644-e513ffdde191"
      },
      "source": [
        "'%s' % 'foo'\n"
      ],
      "execution_count": 26,
      "outputs": [
        {
          "output_type": "execute_result",
          "data": {
            "application/vnd.google.colaboratory.intrinsic+json": {
              "type": "string"
            },
            "text/plain": [
              "'foo'"
            ]
          },
          "metadata": {},
          "execution_count": 26
        }
      ]
    },
    {
      "cell_type": "code",
      "metadata": {
        "colab": {
          "base_uri": "https://localhost:8080/",
          "height": 35
        },
        "id": "dVacAnAJDCtl",
        "outputId": "e2114d2a-e406-4670-c651-740e3c0470c9"
      },
      "source": [
        "'%r' % 'foo'"
      ],
      "execution_count": 27,
      "outputs": [
        {
          "output_type": "execute_result",
          "data": {
            "application/vnd.google.colaboratory.intrinsic+json": {
              "type": "string"
            },
            "text/plain": [
              "\"'foo'\""
            ]
          },
          "metadata": {},
          "execution_count": 27
        }
      ]
    },
    {
      "cell_type": "code",
      "metadata": {
        "colab": {
          "base_uri": "https://localhost:8080/",
          "height": 35
        },
        "id": "hXJ5PW2CDRnB",
        "outputId": "cec66c27-8455-47d8-e723-c95d9e1ecbad"
      },
      "source": [
        "'%a' % 'foo'"
      ],
      "execution_count": 28,
      "outputs": [
        {
          "output_type": "execute_result",
          "data": {
            "application/vnd.google.colaboratory.intrinsic+json": {
              "type": "string"
            },
            "text/plain": [
              "\"'foo'\""
            ]
          },
          "metadata": {},
          "execution_count": 28
        }
      ]
    },
    {
      "cell_type": "code",
      "metadata": {
        "colab": {
          "base_uri": "https://localhost:8080/",
          "height": 35
        },
        "id": "wUDzrKOVDURW",
        "outputId": "0d7b40c0-8c8e-4e43-faf6-9a166d5d0e21"
      },
      "source": [
        "'%.2f' % 123.456789"
      ],
      "execution_count": 30,
      "outputs": [
        {
          "output_type": "execute_result",
          "data": {
            "application/vnd.google.colaboratory.intrinsic+json": {
              "type": "string"
            },
            "text/plain": [
              "'123.46'"
            ]
          },
          "metadata": {},
          "execution_count": 30
        }
      ]
    },
    {
      "cell_type": "code",
      "metadata": {
        "colab": {
          "base_uri": "https://localhost:8080/",
          "height": 35
        },
        "id": "YWNJPggiDuvx",
        "outputId": "70a3e575-c703-423b-9c05-0f49fcb3e1e9"
      },
      "source": [
        "'%.2e' % 123.456789"
      ],
      "execution_count": 31,
      "outputs": [
        {
          "output_type": "execute_result",
          "data": {
            "application/vnd.google.colaboratory.intrinsic+json": {
              "type": "string"
            },
            "text/plain": [
              "'1.23e+02'"
            ]
          },
          "metadata": {},
          "execution_count": 31
        }
      ]
    },
    {
      "cell_type": "code",
      "metadata": {
        "colab": {
          "base_uri": "https://localhost:8080/"
        },
        "id": "AG-5TgeaD-Da",
        "outputId": "572ee2ed-8ded-46a0-920b-cb3bf7fb3b78"
      },
      "source": [
        "for i in range(3):\n",
        "  w = int(input('Enter width: '))\n",
        "  print('[%*s]' % (w, 'foo'))"
      ],
      "execution_count": 32,
      "outputs": [
        {
          "output_type": "stream",
          "name": "stdout",
          "text": [
            "Enter width: 2\n",
            "[foo]\n",
            "Enter width: 4\n",
            "[ foo]\n",
            "Enter width: 8\n",
            "[     foo]\n"
          ]
        }
      ]
    },
    {
      "cell_type": "code",
      "metadata": {
        "colab": {
          "base_uri": "https://localhost:8080/",
          "height": 35
        },
        "id": "NZEPzZwcEwos",
        "outputId": "2e98e5e3-e80f-4362-decc-2914e8a3607b"
      },
      "source": [
        "'%.0f' % 123"
      ],
      "execution_count": 33,
      "outputs": [
        {
          "output_type": "execute_result",
          "data": {
            "application/vnd.google.colaboratory.intrinsic+json": {
              "type": "string"
            },
            "text/plain": [
              "'123'"
            ]
          },
          "metadata": {},
          "execution_count": 33
        }
      ]
    },
    {
      "cell_type": "code",
      "metadata": {
        "colab": {
          "base_uri": "https://localhost:8080/",
          "height": 35
        },
        "id": "spJqtlKtFHWF",
        "outputId": "635d3d7e-4de7-47e3-c152-12e9a51a8290"
      },
      "source": [
        "'%#.0f' % 123"
      ],
      "execution_count": 34,
      "outputs": [
        {
          "output_type": "execute_result",
          "data": {
            "application/vnd.google.colaboratory.intrinsic+json": {
              "type": "string"
            },
            "text/plain": [
              "'123.'"
            ]
          },
          "metadata": {},
          "execution_count": 34
        }
      ]
    },
    {
      "cell_type": "code",
      "metadata": {
        "colab": {
          "base_uri": "https://localhost:8080/",
          "height": 35
        },
        "id": "6HuQ13vcFN-j",
        "outputId": "50e0bb11-2fc2-40d2-b290-fd0eaec11ba1"
      },
      "source": [
        "'%.0e' % 123"
      ],
      "execution_count": 35,
      "outputs": [
        {
          "output_type": "execute_result",
          "data": {
            "application/vnd.google.colaboratory.intrinsic+json": {
              "type": "string"
            },
            "text/plain": [
              "'1e+02'"
            ]
          },
          "metadata": {},
          "execution_count": 35
        }
      ]
    },
    {
      "cell_type": "code",
      "metadata": {
        "colab": {
          "base_uri": "https://localhost:8080/",
          "height": 35
        },
        "id": "qIpJwxvPFR5C",
        "outputId": "d266818f-926b-4609-db15-64ca368a9f56"
      },
      "source": [
        "'%#.0e' % 123"
      ],
      "execution_count": 36,
      "outputs": [
        {
          "output_type": "execute_result",
          "data": {
            "application/vnd.google.colaboratory.intrinsic+json": {
              "type": "string"
            },
            "text/plain": [
              "'1.e+02'"
            ]
          },
          "metadata": {},
          "execution_count": 36
        }
      ]
    },
    {
      "cell_type": "code",
      "metadata": {
        "id": "5DWHdzaPFcXU",
        "outputId": "6279c3c3-4814-4053-b851-cec5d3ec0f4f",
        "colab": {
          "base_uri": "https://localhost:8080/",
          "height": 35
        }
      },
      "source": [
        "'%05d' % 123"
      ],
      "execution_count": 37,
      "outputs": [
        {
          "output_type": "execute_result",
          "data": {
            "application/vnd.google.colaboratory.intrinsic+json": {
              "type": "string"
            },
            "text/plain": [
              "'00123'"
            ]
          },
          "metadata": {},
          "execution_count": 37
        }
      ]
    },
    {
      "cell_type": "code",
      "metadata": {
        "id": "ugeY4e8uFitp",
        "outputId": "f3f4d3be-3ad4-4d9b-8c9b-84148cf5ace7",
        "colab": {
          "base_uri": "https://localhost:8080/",
          "height": 35
        }
      },
      "source": [
        "'%08.2f' % 1.2"
      ],
      "execution_count": 38,
      "outputs": [
        {
          "output_type": "execute_result",
          "data": {
            "application/vnd.google.colaboratory.intrinsic+json": {
              "type": "string"
            },
            "text/plain": [
              "'00001.20'"
            ]
          },
          "metadata": {},
          "execution_count": 38
        }
      ]
    },
    {
      "cell_type": "code",
      "metadata": {
        "id": "VNFCGMtaFreJ",
        "outputId": "3566d3fd-4169-4ae0-e980-583389a10980",
        "colab": {
          "base_uri": "https://localhost:8080/",
          "height": 35
        }
      },
      "source": [
        "'%-5d' % 123"
      ],
      "execution_count": 39,
      "outputs": [
        {
          "output_type": "execute_result",
          "data": {
            "application/vnd.google.colaboratory.intrinsic+json": {
              "type": "string"
            },
            "text/plain": [
              "'123  '"
            ]
          },
          "metadata": {},
          "execution_count": 39
        }
      ]
    },
    {
      "cell_type": "code",
      "metadata": {
        "id": "UmaP3t0_F0Zf",
        "outputId": "b739f159-eab8-4ba8-9801-948e3b9b6b9d",
        "colab": {
          "base_uri": "https://localhost:8080/",
          "height": 35
        }
      },
      "source": [
        "'%-*s' % (10, 'foo')"
      ],
      "execution_count": 40,
      "outputs": [
        {
          "output_type": "execute_result",
          "data": {
            "application/vnd.google.colaboratory.intrinsic+json": {
              "type": "string"
            },
            "text/plain": [
              "'foo       '"
            ]
          },
          "metadata": {},
          "execution_count": 40
        }
      ]
    },
    {
      "cell_type": "code",
      "metadata": {
        "id": "fjSgZMW2F9Q8",
        "outputId": "1b069216-e286-4035-a328-732d7e1749a9",
        "colab": {
          "base_uri": "https://localhost:8080/",
          "height": 35
        }
      },
      "source": [
        "'%+d' % 3"
      ],
      "execution_count": 41,
      "outputs": [
        {
          "output_type": "execute_result",
          "data": {
            "application/vnd.google.colaboratory.intrinsic+json": {
              "type": "string"
            },
            "text/plain": [
              "'+3'"
            ]
          },
          "metadata": {},
          "execution_count": 41
        }
      ]
    },
    {
      "cell_type": "code",
      "metadata": {
        "id": "wTF6Xl77GLeR",
        "outputId": "7801750d-3415-4f8f-ca43-d8b612368a97",
        "colab": {
          "base_uri": "https://localhost:8080/",
          "height": 35
        }
      },
      "source": [
        "'%+5d' % 3"
      ],
      "execution_count": 42,
      "outputs": [
        {
          "output_type": "execute_result",
          "data": {
            "application/vnd.google.colaboratory.intrinsic+json": {
              "type": "string"
            },
            "text/plain": [
              "'   +3'"
            ]
          },
          "metadata": {},
          "execution_count": 42
        }
      ]
    },
    {
      "cell_type": "code",
      "metadata": {
        "id": "rLyjVBH2GSxP"
      },
      "source": [
        ""
      ],
      "execution_count": null,
      "outputs": []
    }
  ]
}