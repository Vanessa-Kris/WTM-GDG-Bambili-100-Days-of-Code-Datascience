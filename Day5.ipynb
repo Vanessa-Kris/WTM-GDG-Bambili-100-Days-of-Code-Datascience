{
  "nbformat": 4,
  "nbformat_minor": 0,
  "metadata": {
    "colab": {
      "name": "Day5.ipynb",
      "provenance": [],
      "authorship_tag": "ABX9TyMx46uzDDhHSn/SJMcIGAmH",
      "include_colab_link": true
    },
    "kernelspec": {
      "display_name": "Python 3",
      "name": "python3"
    },
    "language_info": {
      "name": "python"
    }
  },
  "cells": [
    {
      "cell_type": "markdown",
      "metadata": {
        "id": "view-in-github",
        "colab_type": "text"
      },
      "source": [
        "<a href=\"https://colab.research.google.com/github/Vanessa-Kris/WTM-GDG-Bambili-100-Days-of-Code-Datascience/blob/main/Day5.ipynb\" target=\"_parent\"><img src=\"https://colab.research.google.com/assets/colab-badge.svg\" alt=\"Open In Colab\"/></a>"
      ]
    },
    {
      "cell_type": "code",
      "metadata": {
        "colab": {
          "base_uri": "https://localhost:8080/"
        },
        "id": "B8v5jqOoU3RU",
        "outputId": "cdac79f3-9319-4e0c-a5b7-ddc02ca74088"
      },
      "source": [
        "listIndex1 =  (2 , 4 , 6 , 8 , 10)\n",
        "print(listIndex1[0])"
      ],
      "execution_count": 9,
      "outputs": [
        {
          "output_type": "stream",
          "name": "stdout",
          "text": [
            "2\n"
          ]
        }
      ]
    },
    {
      "cell_type": "code",
      "metadata": {
        "colab": {
          "base_uri": "https://localhost:8080/"
        },
        "id": "dudYvg29Xrq8",
        "outputId": "2dece7dd-e3bf-44e4-cd46-adba81494007"
      },
      "source": [
        "var1 =listIndex1[4] \n",
        "print(var1)"
      ],
      "execution_count": 5,
      "outputs": [
        {
          "output_type": "stream",
          "name": "stdout",
          "text": [
            "8\n"
          ]
        }
      ]
    },
    {
      "cell_type": "markdown",
      "metadata": {
        "id": "xuVaZGW6Xjdi"
      },
      "source": [
        "we we're asked to write even numbers 1-10 which its elements are 5. accesing listIndex's 12th element is impossible unless we increase the even numbers 1-50"
      ]
    },
    {
      "cell_type": "code",
      "metadata": {
        "id": "v8QDpwE5ktPg",
        "outputId": "cbb0a769-5fcd-4cfb-ea26-c58abb3c63eb",
        "colab": {
          "base_uri": "https://localhost:8080/"
        }
      },
      "source": [
        "listIndex2 = listIndex1[2:4]\n",
        "print(listIndex2)"
      ],
      "execution_count": 14,
      "outputs": [
        {
          "output_type": "stream",
          "name": "stdout",
          "text": [
            "(6, 8)\n"
          ]
        }
      ]
    }
  ]
}