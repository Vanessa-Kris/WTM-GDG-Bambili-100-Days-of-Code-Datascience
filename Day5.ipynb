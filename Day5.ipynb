{
  "nbformat": 4,
  "nbformat_minor": 0,
  "metadata": {
    "colab": {
      "name": "Untitled3.ipynb",
      "provenance": [],
      "authorship_tag": "ABX9TyM8u0/VbwXIV/LqFl6cTTaX",
      "include_colab_link": true
    },
    "kernelspec": {
      "name": "python3",
      "display_name": "Python 3"
    },
    "language_info": {
      "name": "python"
    }
  },
  "cells": [
    {
      "cell_type": "markdown",
      "metadata": {
        "id": "view-in-github",
        "colab_type": "text"
      },
      "source": [
        "<a href=\"https://colab.research.google.com/github/Vanessa-Kris/WTM-GDG-Bambili-100-Days-of-Code-Datascience/blob/main/Day5.ipynb\" target=\"_parent\"><img src=\"https://colab.research.google.com/assets/colab-badge.svg\" alt=\"Open In Colab\"/></a>"
      ]
    },
    {
      "cell_type": "code",
      "metadata": {
        "colab": {
          "base_uri": "https://localhost:8080/"
        },
        "id": "aw4bkyuWkmTE",
        "outputId": "aa86274a-bb3f-4284-a599-288a911a2857"
      },
      "source": [
        "x = {'foo', 'bar', 'baz', 'foo', 'qux'} \n",
        "print(x)\n"
      ],
      "execution_count": 13,
      "outputs": [
        {
          "output_type": "stream",
          "name": "stdout",
          "text": [
            "{'bar', 'baz', 'qux', 'foo'}\n"
          ]
        }
      ]
    },
    {
      "cell_type": "code",
      "metadata": {
        "id": "OJA9iRqvm9sE",
        "outputId": "cba408fd-aaa5-414f-ff1d-b767384808bc",
        "colab": {
          "base_uri": "https://localhost:8080/"
        }
      },
      "source": [
        "{'foo'}\n",
        "\n",
        "set('foo')"
      ],
      "execution_count": 19,
      "outputs": [
        {
          "output_type": "execute_result",
          "data": {
            "text/plain": [
              "{'f', 'o'}"
            ]
          },
          "metadata": {},
          "execution_count": 19
        }
      ]
    },
    {
      "cell_type": "code",
      "metadata": {
        "id": "PzFMgoU8nYW8",
        "outputId": "001bfc54-f143-4c73-b7de-557a9ef78f45",
        "colab": {
          "base_uri": "https://localhost:8080/"
        }
      },
      "source": [
        "x = set()\n",
        "type(x)\n",
        "\n",
        "x={}\n",
        "type(x)"
      ],
      "execution_count": 22,
      "outputs": [
        {
          "output_type": "execute_result",
          "data": {
            "text/plain": [
              "dict"
            ]
          },
          "metadata": {},
          "execution_count": 22
        }
      ]
    },
    {
      "cell_type": "code",
      "metadata": {
        "id": "w_yNRbMGnzgO",
        "outputId": "eddecf72-9855-4c12-d39b-8e5142d90f1f",
        "colab": {
          "base_uri": "https://localhost:8080/"
        }
      },
      "source": [
        "x = set()\n",
        "bool(x)\n"
      ],
      "execution_count": 24,
      "outputs": [
        {
          "output_type": "execute_result",
          "data": {
            "text/plain": [
              "False"
            ]
          },
          "metadata": {},
          "execution_count": 24
        }
      ]
    },
    {
      "cell_type": "code",
      "metadata": {
        "id": "a4EJxhXSop7e"
      },
      "source": [
        "s1 = {2 , 4 ,6 ,8 , 10}\n",
        "s2 = {'smith', 'McArthur', 'Wilson', 'Johansson'}"
      ],
      "execution_count": 25,
      "outputs": []
    },
    {
      "cell_type": "code",
      "metadata": {
        "id": "w3ko2IopvAQo"
      },
      "source": [
        "x = {42, 'foo', (1,2,3), 3.1484}"
      ],
      "execution_count": 26,
      "outputs": []
    },
    {
      "cell_type": "code",
      "metadata": {
        "id": "fKhRph5PvPrC",
        "outputId": "c2351367-00df-4b11-a8c8-7042444fa155",
        "colab": {
          "base_uri": "https://localhost:8080/"
        }
      },
      "source": [
        "x = {'foo', 'bar', 'baz'}\n",
        "len(x)\n",
        "\n",
        "'bar' in x\n",
        "\n",
        "'qux' in x"
      ],
      "execution_count": 27,
      "outputs": [
        {
          "output_type": "execute_result",
          "data": {
            "text/plain": [
              "False"
            ]
          },
          "metadata": {},
          "execution_count": 27
        }
      ]
    },
    {
      "cell_type": "code",
      "metadata": {
        "id": "KRExeH56v3hi",
        "outputId": "7c6c1577-f73b-4395-c6a2-22923ac341bf",
        "colab": {
          "base_uri": "https://localhost:8080/"
        }
      },
      "source": [
        "x1 = {'foo', 'bar', 'baz'}\n",
        "x2 = {'baz', 'qux', 'quux'}\n",
        "x1 | x2\n"
      ],
      "execution_count": 29,
      "outputs": [
        {
          "output_type": "execute_result",
          "data": {
            "text/plain": [
              "{'bar', 'baz', 'foo', 'quux', 'qux'}"
            ]
          },
          "metadata": {},
          "execution_count": 29
        }
      ]
    },
    {
      "cell_type": "code",
      "metadata": {
        "id": "Hj5-tHcMw_6o",
        "outputId": "8a1576ed-eda1-4a60-c9fa-7f6c9978f5e5",
        "colab": {
          "base_uri": "https://localhost:8080/"
        }
      },
      "source": [
        "x1 = {'foo', 'bar', 'baz'}\n",
        "x2 = {'baz', 'qux', 'quux'}\n",
        "x1.union(x2)\n"
      ],
      "execution_count": 30,
      "outputs": [
        {
          "output_type": "execute_result",
          "data": {
            "text/plain": [
              "{'bar', 'baz', 'foo', 'quux', 'qux'}"
            ]
          },
          "metadata": {},
          "execution_count": 30
        }
      ]
    },
    {
      "cell_type": "code",
      "metadata": {
        "id": "gT-dEQRPxI2K",
        "outputId": "179abdd4-d869-4ef0-a7d9-8798dfb66765",
        "colab": {
          "base_uri": "https://localhost:8080/"
        }
      },
      "source": [
        "x1 = {'foo', 'bar', 'baz'}\n",
        "xe2 = {'baz', 'qux', 'quux'}\n",
        "x1.intersection(x2)"
      ],
      "execution_count": 31,
      "outputs": [
        {
          "output_type": "execute_result",
          "data": {
            "text/plain": [
              "{'baz'}"
            ]
          },
          "metadata": {},
          "execution_count": 31
        }
      ]
    },
    {
      "cell_type": "code",
      "metadata": {
        "id": "EGMe2DRnxYHs",
        "outputId": "70c24b3c-2fa3-4fe8-94cb-b1ed7e31d394",
        "colab": {
          "base_uri": "https://localhost:8080/"
        }
      },
      "source": [
        "x1 = {'foo', 'bar', 'baz'}\n",
        "x2 = {'baz', 'qux', 'quux'}\n",
        "x1 & x2"
      ],
      "execution_count": 32,
      "outputs": [
        {
          "output_type": "execute_result",
          "data": {
            "text/plain": [
              "{'baz'}"
            ]
          },
          "metadata": {},
          "execution_count": 32
        }
      ]
    },
    {
      "cell_type": "code",
      "metadata": {
        "id": "74cKu27kxeg6",
        "outputId": "808bfe4d-7aa6-4ae5-b955-7d7fb52ba863",
        "colab": {
          "base_uri": "https://localhost:8080/"
        }
      },
      "source": [
        "x1 = {'foo', 'bar', 'baz'}\n",
        "x2 = {'foo', 'bar'}\n",
        "x1 > x2"
      ],
      "execution_count": 34,
      "outputs": [
        {
          "output_type": "execute_result",
          "data": {
            "text/plain": [
              "True"
            ]
          },
          "metadata": {},
          "execution_count": 34
        }
      ]
    },
    {
      "cell_type": "code",
      "metadata": {
        "id": "c_wzVcrdzLX8",
        "outputId": "55ee0ece-4fd9-468c-cb30-fb7a99186e06",
        "colab": {
          "base_uri": "https://localhost:8080/"
        }
      },
      "source": [
        "x1 = {'foo', 'bar', 'baz'}\n",
        "x2 = {'foo', 'bar', 'baz'}\n",
        "x1 > x2"
      ],
      "execution_count": 37,
      "outputs": [
        {
          "output_type": "execute_result",
          "data": {
            "text/plain": [
              "False"
            ]
          },
          "metadata": {},
          "execution_count": 37
        }
      ]
    },
    {
      "cell_type": "code",
      "metadata": {
        "id": "ZuSEwZEo0B6K",
        "outputId": "112f1e83-f4dd-4a9b-f9b0-c6a86bca7247",
        "colab": {
          "base_uri": "https://localhost:8080/"
        }
      },
      "source": [
        "x = {'foo', 'bar', 'baz'}\n",
        "x.remove('baz')\n",
        "print(x)"
      ],
      "execution_count": 39,
      "outputs": [
        {
          "output_type": "stream",
          "name": "stdout",
          "text": [
            "{'bar', 'foo'}\n"
          ]
        }
      ]
    }
  ]
}