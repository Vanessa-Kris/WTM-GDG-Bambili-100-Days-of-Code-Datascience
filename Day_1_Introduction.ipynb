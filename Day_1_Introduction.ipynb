{
  "nbformat": 4,
  "nbformat_minor": 0,
  "metadata": {
    "colab": {
      "name": "Day 1 - Introduction.ipynb",
      "provenance": [],
      "authorship_tag": "ABX9TyPH68U+qM0z6arES2zAmRIu",
      "include_colab_link": true
    },
    "kernelspec": {
      "name": "python3",
      "display_name": "Python 3"
    },
    "language_info": {
      "name": "python"
    }
  },
  "cells": [
    {
      "cell_type": "markdown",
      "metadata": {
        "id": "view-in-github",
        "colab_type": "text"
      },
      "source": [
        "<a href=\"https://colab.research.google.com/github/Vanessa-Kris/WTM-GDG-Bambili-100-Days-of-Code-Datascience/blob/main/Day_1_Introduction.ipynb\" target=\"_parent\"><img src=\"https://colab.research.google.com/assets/colab-badge.svg\" alt=\"Open In Colab\"/></a>"
      ]
    },
    {
      "cell_type": "code",
      "metadata": {
        "colab": {
          "base_uri": "https://localhost:8080/"
        },
        "id": "rJ97Hvnc2zkV",
        "outputId": "1ce2c5d0-b668-4491-f1de-cab18aeb60b6"
      },
      "source": [
        "print('Hello world')\n",
        "sample_variable=None\n",
        "#This wont work=None\n",
        "#-this is even worse-=None\n",
        "#incredibly - terrible=None\n",
        "#4 i'm confused=None\n",
        "#how-about-this?=None\n",
        "sample_variable=\"Hello world\"\n",
        "print(sample_variable)"
      ],
      "execution_count": 10,
      "outputs": [
        {
          "output_type": "stream",
          "text": [
            "Hello world\n",
            "Hello world\n"
          ],
          "name": "stdout"
        }
      ]
    }
  ]
}