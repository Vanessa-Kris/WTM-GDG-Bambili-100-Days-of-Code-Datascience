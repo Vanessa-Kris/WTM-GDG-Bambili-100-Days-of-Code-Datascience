{
  "nbformat": 4,
  "nbformat_minor": 0,
  "metadata": {
    "colab": {
      "name": "Day3",
      "provenance": [],
      "collapsed_sections": [],
      "authorship_tag": "ABX9TyPvum+IcBZYgY4z8hDABgwz",
      "include_colab_link": true
    },
    "kernelspec": {
      "name": "python3",
      "display_name": "Python 3"
    },
    "language_info": {
      "name": "python"
    }
  },
  "cells": [
    {
      "cell_type": "markdown",
      "metadata": {
        "id": "view-in-github",
        "colab_type": "text"
      },
      "source": [
        "<a href=\"https://colab.research.google.com/github/Vanessa-Kris/WTM-GDG-Bambili-100-Days-of-Code-Datascience/blob/main/Day3.ipynb\" target=\"_parent\"><img src=\"https://colab.research.google.com/assets/colab-badge.svg\" alt=\"Open In Colab\"/></a>"
      ]
    },
    {
      "cell_type": "code",
      "metadata": {
        "colab": {
          "base_uri": "https://localhost:8080/"
        },
        "id": "_u67Q_xHUu3W",
        "outputId": "5a99347b-3810-4eb6-c3e7-7cc76a7685e8"
      },
      "source": [
        "answer = 1 + 1\n",
        "print(answer) \\"
      ],
      "execution_count": 2,
      "outputs": [
        {
          "output_type": "stream",
          "text": [
            "2\n"
          ],
          "name": "stdout"
        }
      ]
    },
    {
      "cell_type": "code",
      "metadata": {
        "colab": {
          "base_uri": "https://localhost:8080/"
        },
        "id": "NrcYPFTnV519",
        "outputId": "36aa96de-1ddb-4857-90f6-0d0a73f56353"
      },
      "source": [
        "var1 = 2+2\n",
        "print (var1)\n",
        "type(var1)\n",
        "#variable is an integer"
      ],
      "execution_count": 11,
      "outputs": [
        {
          "output_type": "stream",
          "text": [
            "4\n"
          ],
          "name": "stdout"
        },
        {
          "output_type": "execute_result",
          "data": {
            "text/plain": [
              "int"
            ]
          },
          "metadata": {},
          "execution_count": 11
        }
      ]
    },
    {
      "cell_type": "markdown",
      "metadata": {
        "id": "U-zuvOAd0ReY"
      },
      "source": [
        "Created a variable called var1 and assigned the value of 2+2, then printed out the variable."
      ]
    },
    {
      "cell_type": "code",
      "metadata": {
        "colab": {
          "base_uri": "https://localhost:8080/"
        },
        "id": "DVgkEo0GeJ3t",
        "outputId": "63844a61-afaf-46ad-b977-80f7dd79f17d"
      },
      "source": [
        "var2 =3+2/5\n",
        "print (var2)\n",
        "type(var2)\n",
        "#variable is a float"
      ],
      "execution_count": 13,
      "outputs": [
        {
          "output_type": "stream",
          "text": [
            "3.4\n"
          ],
          "name": "stdout"
        },
        {
          "output_type": "execute_result",
          "data": {
            "text/plain": [
              "float"
            ]
          },
          "metadata": {},
          "execution_count": 13
        }
      ]
    },
    {
      "cell_type": "markdown",
      "metadata": {
        "id": "ye6CDP0A0H4P"
      },
      "source": [
        "created a variable called var2 and assigned the value of 3+2/5, then  out the variable."
      ]
    },
    {
      "cell_type": "code",
      "metadata": {
        "colab": {
          "base_uri": "https://localhost:8080/"
        },
        "id": "8tQ2Y4Sdeuxv",
        "outputId": "4ec4b6dc-0f96-4169-ea48-e8be270fdbbc"
      },
      "source": [
        "var3 =4*16\n",
        "print (var3)\n",
        "type (var3)\n",
        "#variable is an integer"
      ],
      "execution_count": 19,
      "outputs": [
        {
          "output_type": "stream",
          "text": [
            "64\n"
          ],
          "name": "stdout"
        },
        {
          "output_type": "execute_result",
          "data": {
            "text/plain": [
              "int"
            ]
          },
          "metadata": {},
          "execution_count": 19
        }
      ]
    },
    {
      "cell_type": "markdown",
      "metadata": {
        "id": "jwhOvfh0z5KD"
      },
      "source": [
        "created a variable called var3 and assigned the value of 4 multiplied by 16, then printed out the variable."
      ]
    },
    {
      "cell_type": "code",
      "metadata": {
        "colab": {
          "base_uri": "https://localhost:8080/"
        },
        "id": "sJ0kpoGSgkTi",
        "outputId": "e07ac795-6aaf-4286-b563-2856a4cfcce1"
      },
      "source": [
        "var4 =4**6\n",
        "print (var4)\n",
        "type (var4)\n",
        "#variable is an integer"
      ],
      "execution_count": 40,
      "outputs": [
        {
          "output_type": "stream",
          "text": [
            "4096\n"
          ],
          "name": "stdout"
        },
        {
          "output_type": "execute_result",
          "data": {
            "text/plain": [
              "int"
            ]
          },
          "metadata": {},
          "execution_count": 40
        }
      ]
    },
    {
      "cell_type": "markdown",
      "metadata": {
        "id": "JftzXjblzxQv"
      },
      "source": [
        "created a variable called var4 and assigned the value of 4 raised to the power of 6, then printed out the variable."
      ]
    },
    {
      "cell_type": "code",
      "metadata": {
        "colab": {
          "base_uri": "https://localhost:8080/"
        },
        "id": "FoX4ZsHzs9GQ",
        "outputId": "42e4bd5a-a5d3-4b65-b04c-981c28ec4a15"
      },
      "source": [
        "var5 ='Hello' + ' ' + 'world'\n",
        "print (var5)\n",
        "type (var5)\n",
        "#variable is str"
      ],
      "execution_count": 28,
      "outputs": [
        {
          "output_type": "stream",
          "text": [
            "Hello world\n"
          ],
          "name": "stdout"
        },
        {
          "output_type": "execute_result",
          "data": {
            "text/plain": [
              "str"
            ]
          },
          "metadata": {},
          "execution_count": 28
        }
      ]
    },
    {
      "cell_type": "markdown",
      "metadata": {
        "id": "MgxMNQLEzq56"
      },
      "source": [
        "created a variable called var5 and assigned the value of 'Hello' + ' ' + 'world', then printed out the variable."
      ]
    },
    {
      "cell_type": "code",
      "metadata": {
        "colab": {
          "base_uri": "https://localhost:8080/"
        },
        "id": "cvPkXgQrusYV",
        "outputId": "6b7baff3-184e-4d8b-9ff8-905ca3c5fb21"
      },
      "source": [
        "var6 ='Hello world'*5\n",
        "print (var6)\n",
        "type (var6)\n",
        "#variable is str"
      ],
      "execution_count": 33,
      "outputs": [
        {
          "output_type": "stream",
          "text": [
            "Hello worldHello worldHello worldHello worldHello world\n"
          ],
          "name": "stdout"
        },
        {
          "output_type": "execute_result",
          "data": {
            "text/plain": [
              "str"
            ]
          },
          "metadata": {},
          "execution_count": 33
        }
      ]
    },
    {
      "cell_type": "markdown",
      "metadata": {
        "id": "jI-S5T9TzRU0"
      },
      "source": [
        "created a variable called var6 and assigned the value of 'Hello world multiplied by 5, then printed out the variable."
      ]
    },
    {
      "cell_type": "code",
      "metadata": {
        "colab": {
          "base_uri": "https://localhost:8080/"
        },
        "id": "6ilT3q-AvLhl",
        "outputId": "58b993d6-1d3b-42ee-b428-05d04e418bc3"
      },
      "source": [
        "var7 =4%3\n",
        "print (var7)\n",
        "type (var7)\n",
        "#variable is an integer"
      ],
      "execution_count": 38,
      "outputs": [
        {
          "output_type": "stream",
          "text": [
            "1\n"
          ],
          "name": "stdout"
        },
        {
          "output_type": "execute_result",
          "data": {
            "text/plain": [
              "int"
            ]
          },
          "metadata": {},
          "execution_count": 38
        }
      ]
    },
    {
      "cell_type": "markdown",
      "metadata": {
        "id": "g0LMqY0ryur2"
      },
      "source": [
        "created a variable called var7 and assigned the value of 4 mod (modulo) 3, then printed out the variable."
      ]
    }
  ]
}