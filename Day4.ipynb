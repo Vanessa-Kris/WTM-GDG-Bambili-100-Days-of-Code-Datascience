{
  "nbformat": 4,
  "nbformat_minor": 0,
  "metadata": {
    "colab": {
      "name": "Day4.ipynb",
      "provenance": [],
      "collapsed_sections": [],
      "authorship_tag": "ABX9TyPlKul04LS62QKKWY6obmZR",
      "include_colab_link": true
    },
    "kernelspec": {
      "name": "python3",
      "display_name": "Python 3"
    },
    "language_info": {
      "name": "python"
    }
  },
  "cells": [
    {
      "cell_type": "markdown",
      "metadata": {
        "id": "view-in-github",
        "colab_type": "text"
      },
      "source": [
        "<a href=\"https://colab.research.google.com/github/Vanessa-Kris/WTM-GDG-Bambili-100-Days-of-Code-Datascience/blob/main/Day4.ipynb\" target=\"_parent\"><img src=\"https://colab.research.google.com/assets/colab-badge.svg\" alt=\"Open In Colab\"/></a>"
      ]
    },
    {
      "cell_type": "code",
      "metadata": {
        "colab": {
          "base_uri": "https://localhost:8080/"
        },
        "id": "mgeqF0iwwaNk",
        "outputId": "eea2880d-4175-4e42-c7f3-60a771d233e2"
      },
      "source": [
        "list1 = [\"Hello\" , \"World\" , \"I\" , \"Am\" , \"Vanessa\", 1.5 , 3.7 , 4.8 , 8.16 , 17.4 , 1 ,2 ,3 ,4 ,]\n",
        "list1.append(var1)\n",
        "print(list1) \n",
        "type(list1)"
      ],
      "execution_count": 28,
      "outputs": [
        {
          "output_type": "stream",
          "name": "stdout",
          "text": [
            "['Hello', 'World', 'I', 'Am', 'Vanessa', 1.5, 3.7, 4.8, 8.16, 17.4, 1, 2, 3, 4, 'Hello world']\n"
          ]
        },
        {
          "output_type": "execute_result",
          "data": {
            "text/plain": [
              "list"
            ]
          },
          "metadata": {},
          "execution_count": 28
        }
      ]
    },
    {
      "cell_type": "code",
      "metadata": {
        "id": "KivbF1jn58qc"
      },
      "source": [
        "var1 = \"Hello\" + \" world\""
      ],
      "execution_count": 5,
      "outputs": []
    },
    {
      "cell_type": "code",
      "metadata": {
        "colab": {
          "base_uri": "https://localhost:8080/"
        },
        "id": "xmULJgZf9US6",
        "outputId": "0949dc8d-7dcc-4b2e-d9ff-ea783d11f706"
      },
      "source": [
        "list4 = [6 , 7 , 8 , 9 , 0, 6.7 , 2.5, 8.17, 3.7, 8.16, 3.14, \"My\", \"Teacher\" , \"Is\" , \"Awesome\"]\n",
        "print(list4)\n",
        "type(list4)"
      ],
      "execution_count": 26,
      "outputs": [
        {
          "output_type": "stream",
          "name": "stdout",
          "text": [
            "[6, 7, 8, 9, 0, 6.7, 2.5, 8.17, 3.7, 8.16, 3.14, 'My', 'Teacher', 'Is', 'Awesome']\n"
          ]
        },
        {
          "output_type": "execute_result",
          "data": {
            "text/plain": [
              "list"
            ]
          },
          "metadata": {},
          "execution_count": 26
        }
      ]
    },
    {
      "cell_type": "code",
      "metadata": {
        "id": "JYkTXbLb7wCs",
        "outputId": "07281638-5b5d-47e9-a0f9-eb2e1fc98920",
        "colab": {
          "base_uri": "https://localhost:8080/",
          "height": 0
        }
      },
      "source": [
        "list5 = list1 + list4\n",
        "print(list5)"
      ],
      "execution_count": 34,
      "outputs": [
        {
          "output_type": "stream",
          "name": "stdout",
          "text": [
            "['Hello', 'World', 'I', 'Am', 'Vanessa', 1.5, 3.7, 4.8, 8.16, 17.4, 1, 2, 3, 4, 'Hello world', 6, 7, 8, 9, 0, 6.7, 2.5, 8.17, 3.7, 8.16, 3.14, 'My', 'Teacher', 'Is', 'Awesome']\n"
          ]
        }
      ]
    },
    {
      "cell_type": "code",
      "metadata": {
        "id": "-bG6nxEVCIfy"
      },
      "source": [
        "list2 = 5, 6, 7.0, \"Eight\", \"Nine\""
      ],
      "execution_count": 31,
      "outputs": []
    },
    {
      "cell_type": "code",
      "metadata": {
        "id": "UUAi0EqEGxVy"
      },
      "source": [
        "list3 = \"interger\" , \"integer\" , \"float\" , \"string\" , \"string\""
      ],
      "execution_count": 33,
      "outputs": []
    }
  ]
}